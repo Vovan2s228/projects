{
  "nbformat": 4,
  "nbformat_minor": 0,
  "metadata": {
    "colab": {
      "provenance": [],
      "collapsed_sections": [
        "b13oGCaPBsaY",
        "uyM2adWHBNBQ"
      ]
    },
    "kernelspec": {
      "name": "python3",
      "display_name": "Python 3"
    },
    "language_info": {
      "name": "python"
    },
    "gpuClass": "standard",
    "accelerator": "GPU"
  },
  "cells": [
    {
      "cell_type": "markdown",
      "source": [
        "# Build and Train a GAN on MNIST\n",
        "\n",
        "This notebook shows how to generate images of handwritten digits using a [Generative Adversarial Network (GAN)](https://arxiv.org/abs/1701.00160), or more correctly a [Deep Convolutional Generative Adversarial Network (DCGAN)](https://arxiv.org/pdf/1511.06434.pdf). The code here is based on that from the [Tensorflow tutorial](https://www.tensorflow.org/tutorials/generative/dcgan), it is written using the [Keras Sequential API](https://www.tensorflow.org/guide/keras) with a custom [`tf.GradientTape`](https://www.tensorflow.org/api_docs/python/tf/GradientTape) training loop to implement the adversarial training required.\n",
        "\n",
        "## Please note: there is a [graded exercise](#graded_exercise) at the end of this notebook.\n",
        "\n",
        "The graded exercise requires you to adapt this notebook to train a GAN on a different dataset and upload your adapted notebook to Brightspace."
      ],
      "metadata": {
        "id": "sGk18l4-GDlT"
      }
    },
    {
      "cell_type": "markdown",
      "source": [
        "## Setup the Environment\n",
        "\n",
        "We begin by importing the usual libraries; Tensorflow 2, MatPlotLib, and NumPy. In addition, this notebook makes use of access to the filesystem for saving checkpoints to support this we import libraries for dealing with the operating system, and dealing with time."
      ],
      "metadata": {
        "id": "IAlzA7kHJYS5"
      }
    },
    {
      "cell_type": "code",
      "execution_count": null,
      "metadata": {
        "id": "VFcRjiYW--ex"
      },
      "outputs": [],
      "source": [
        "import tensorflow as tf\n",
        "from tensorflow.keras import layers\n",
        "import matplotlib.pyplot as plt\n",
        "import numpy as np\n",
        "import os\n",
        "import time"
      ]
    },
    {
      "cell_type": "markdown",
      "source": [
        "In addition to the standard libraries imported above, this notebook will make use of a library that allows us to plot a graph of the losses over time as the GAN is trained. To do this we must first install the library on the local system because it is not included with the standard installation on Colab runtimes. This is done with the `!pip install` command."
      ],
      "metadata": {
        "id": "dUFhjswdsDcZ"
      }
    },
    {
      "cell_type": "code",
      "source": [
        "!pip install livelossplot --quiet\n",
        "\n",
        "from livelossplot import PlotLosses"
      ],
      "metadata": {
        "id": "aKU8ZSFEsCwW"
      },
      "execution_count": null,
      "outputs": []
    },
    {
      "cell_type": "markdown",
      "source": [
        "### Load and prepare the MNIST dataset\n",
        "\n",
        "We will use the MNIST dataset to train the generator and the discriminator. The generator will generate handwritten digits resembling the MNIST data. To load the dataset we use Keras, which will load the dataset into memory. This works well for the small datasets available through Keras. For larger datasets, e.g., [CelebA](https://mmlab.ie.cuhk.edu.hk/projects/CelebA.html), we would use the [tensorflow_datasets](https://www.tensorflow.org/datasets) library to download and cache the dataset on the local filesystem."
      ],
      "metadata": {
        "id": "JbVETrDKK6RR"
      }
    },
    {
      "cell_type": "code",
      "source": [
        "(train_images, train_labels), (_, _) = tf.keras.datasets.mnist.load_data()"
      ],
      "metadata": {
        "id": "eUC5LETY_Xnu"
      },
      "execution_count": null,
      "outputs": []
    },
    {
      "cell_type": "markdown",
      "source": [
        "#### Prepare the dataset\n",
        "\n",
        "The MNIST dataset needs to transformed for use with convolutional networks, i.e., the image data needs to be reshaped from a flat vector to a 28x28x1 image and the datatype converted to a 32-bit floating point number. This is the same as we did for the VAE trained on the MNIST dataset. Unlike the VAE example the individual pixel values are normalised into the range \\[-1, 1\\], rather than \\[0, 1\\] for the VAE. Experimentally this range has proved to be better for training GANs."
      ],
      "metadata": {
        "id": "raXWclFMMXWE"
      }
    },
    {
      "cell_type": "code",
      "source": [
        "train_images = train_images.reshape(train_images.shape[0], 28, 28, 1).astype('float32')\n",
        "train_images = (train_images - 127.5) / 127.5  # Normalize the images to [-1, 1]"
      ],
      "metadata": {
        "id": "Jv6EY5gm_iXa"
      },
      "execution_count": null,
      "outputs": []
    },
    {
      "cell_type": "markdown",
      "source": [
        "#### Define some constants\n",
        "\n",
        "We transform the prepared images into a [`tf.data.Dataset`](https://www.tensorflow.org/api_docs/python/tf/data/Dataset). This will take care of sampling the prepared MNIST images by shuffling a buffer of inputs (the size of the buffer is controlled by `BUFFER_SIZE`) and providing batches for use in training of size `BATCH_SIZE`."
      ],
      "metadata": {
        "id": "PezAL8bTNZpJ"
      }
    },
    {
      "cell_type": "code",
      "source": [
        "# Maximum dataset size is 60000\n",
        "DATASET_SIZE = 10000\n",
        "BATCH_SIZE = 256"
      ],
      "metadata": {
        "id": "9xHUZCM0_mkD"
      },
      "execution_count": null,
      "outputs": []
    },
    {
      "cell_type": "code",
      "source": [
        "# Batch and shuffle the data\n",
        "train_dataset = tf.data.Dataset.from_tensor_slices(train_images[:DATASET_SIZE]).shuffle(DATASET_SIZE).batch(BATCH_SIZE)"
      ],
      "metadata": {
        "id": "qukTeX2R_sfE"
      },
      "execution_count": null,
      "outputs": []
    },
    {
      "cell_type": "markdown",
      "source": [
        "## Build the Generative Adversarial Network (GAN)\n",
        "\n",
        "The GAN is built in two halves, the generator and the discriminator. In this example, both the generator and discriminator are relatively simple and have a linear structure and so are defined using the [Keras Sequential API](https://keras.io/guides/sequential_model/). Typically, the complexity of using GANs is the custom training required to support the adversarial learning, as we'll see in the next section."
      ],
      "metadata": {
        "id": "2Geh5hhtBzHu"
      }
    },
    {
      "cell_type": "markdown",
      "source": [
        "### Build the Generator\n",
        "\n",
        "The generator is a convolutional network that takes as input a noise vector and outputs an image for the discriminator. First, we define the size of the noise vectors that are provided to the generator as input."
      ],
      "metadata": {
        "id": "b13oGCaPBsaY"
      }
    },
    {
      "cell_type": "code",
      "source": [
        "NOISE_DIM = 100"
      ],
      "metadata": {
        "id": "coy_S1KVOlas"
      },
      "execution_count": null,
      "outputs": []
    },
    {
      "cell_type": "markdown",
      "source": [
        "Next we define a function that will build the generator model. The generator uses [`tf.keras.layers.Conv2DTranspose`](https://www.tensorflow.org/api_docs/python/tf/keras/layers/Conv2DTranspose) layers to upsample from a seed (random noise) to produce an image of the same size as those in the MNIST dataset, i.e., 28x28x1. The generator starts with a [`Dense`](https://www.tensorflow.org/api_docs/python/tf/keras/layers/Conv2DTranspose) layer that takes this seed as input and then upsamples several times until the desired image size of 28x28x1 is reached. Notice the [`tf.keras.layers.LeakyReLU`](https://www.tensorflow.org/api_docs/python/tf/keras/layers/LeakyReLU) activation for each layer, except the output layer which uses `tanh`, which will output a value between -1 and 1 to match the preprocessed MNIST images."
      ],
      "metadata": {
        "id": "pUCoD6EdOzbP"
      }
    },
    {
      "cell_type": "code",
      "source": [
        "def build_generator(noise_dim=100):\n",
        "    model = tf.keras.Sequential()\n",
        "    model.add(layers.Dense(7*7*256, use_bias=False, input_shape=(noise_dim,)))\n",
        "    model.add(layers.BatchNormalization())\n",
        "    model.add(layers.LeakyReLU())\n",
        "\n",
        "    model.add(layers.Reshape((7, 7, 256)))\n",
        "    assert model.output_shape == (None, 7, 7, 256)  # Note: None is the batch size\n",
        "\n",
        "    model.add(layers.Conv2DTranspose(128, (5, 5), strides=(1, 1), padding='same', use_bias=False))\n",
        "    assert model.output_shape == (None, 7, 7, 128)\n",
        "    model.add(layers.BatchNormalization())\n",
        "    model.add(layers.LeakyReLU())\n",
        "\n",
        "    model.add(layers.Conv2DTranspose(64, (5, 5), strides=(2, 2), padding='same', use_bias=False))\n",
        "    assert model.output_shape == (None, 14, 14, 64)\n",
        "    model.add(layers.BatchNormalization())\n",
        "    model.add(layers.LeakyReLU())\n",
        "\n",
        "    model.add(layers.Conv2DTranspose(1, (5, 5), strides=(2, 2), padding='same', use_bias=False, activation='tanh'))\n",
        "    assert model.output_shape == (None, 28, 28, 1)\n",
        "\n",
        "    return model"
      ],
      "metadata": {
        "id": "5vZ0F5Ba_x-H"
      },
      "execution_count": null,
      "outputs": []
    },
    {
      "cell_type": "markdown",
      "source": [
        "To test that the generator model is working, we can input a random vector of size `NOISE_DIM`, produced by sampling from the standard normal distribution, and display the image produced. Unsurprisingly, before any training the output of the generator is an image of noise."
      ],
      "metadata": {
        "id": "GT59SHkbPc8q"
      }
    },
    {
      "cell_type": "code",
      "source": [
        "generator = build_generator(NOISE_DIM)\n",
        "\n",
        "generator.summary()\n",
        "\n",
        "noise = tf.random.normal([1, NOISE_DIM])\n",
        "generated_image = generator(noise, training=False)\n",
        "\n",
        "plt.imshow(generated_image[0, :, :, 0], cmap='gray')"
      ],
      "metadata": {
        "colab": {
          "base_uri": "https://localhost:8080/"
        },
        "id": "nUpCdaA1Am0A",
        "outputId": "873e81ae-3996-4c21-e6af-6a8c82426dfd"
      },
      "execution_count": null,
      "outputs": [
        {
          "output_type": "display_data",
          "data": {
            "text/plain": [
              "\u001b[1mModel: \"sequential_2\"\u001b[0m\n"
            ],
            "text/html": [
              "<pre style=\"white-space:pre;overflow-x:auto;line-height:normal;font-family:Menlo,'DejaVu Sans Mono',consolas,'Courier New',monospace\"><span style=\"font-weight: bold\">Model: \"sequential_2\"</span>\n",
              "</pre>\n"
            ]
          },
          "metadata": {}
        },
        {
          "output_type": "display_data",
          "data": {
            "text/plain": [
              "┏━━━━━━━━━━━━━━━━━━━━━━━━━━━━━━━━━━━━━━┳━━━━━━━━━━━━━━━━━━━━━━━━━━━━━┳━━━━━━━━━━━━━━━━━┓\n",
              "┃\u001b[1m \u001b[0m\u001b[1mLayer (type)                        \u001b[0m\u001b[1m \u001b[0m┃\u001b[1m \u001b[0m\u001b[1mOutput Shape               \u001b[0m\u001b[1m \u001b[0m┃\u001b[1m \u001b[0m\u001b[1m        Param #\u001b[0m\u001b[1m \u001b[0m┃\n",
              "┡━━━━━━━━━━━━━━━━━━━━━━━━━━━━━━━━━━━━━━╇━━━━━━━━━━━━━━━━━━━━━━━━━━━━━╇━━━━━━━━━━━━━━━━━┩\n",
              "│ dense_2 (\u001b[38;5;33mDense\u001b[0m)                      │ (\u001b[38;5;45mNone\u001b[0m, \u001b[38;5;34m12544\u001b[0m)               │       \u001b[38;5;34m1,254,400\u001b[0m │\n",
              "├──────────────────────────────────────┼─────────────────────────────┼─────────────────┤\n",
              "│ batch_normalization_3                │ (\u001b[38;5;45mNone\u001b[0m, \u001b[38;5;34m12544\u001b[0m)               │          \u001b[38;5;34m50,176\u001b[0m │\n",
              "│ (\u001b[38;5;33mBatchNormalization\u001b[0m)                 │                             │                 │\n",
              "├──────────────────────────────────────┼─────────────────────────────┼─────────────────┤\n",
              "│ leaky_re_lu_5 (\u001b[38;5;33mLeakyReLU\u001b[0m)            │ (\u001b[38;5;45mNone\u001b[0m, \u001b[38;5;34m12544\u001b[0m)               │               \u001b[38;5;34m0\u001b[0m │\n",
              "├──────────────────────────────────────┼─────────────────────────────┼─────────────────┤\n",
              "│ reshape_1 (\u001b[38;5;33mReshape\u001b[0m)                  │ (\u001b[38;5;45mNone\u001b[0m, \u001b[38;5;34m7\u001b[0m, \u001b[38;5;34m7\u001b[0m, \u001b[38;5;34m256\u001b[0m)           │               \u001b[38;5;34m0\u001b[0m │\n",
              "├──────────────────────────────────────┼─────────────────────────────┼─────────────────┤\n",
              "│ conv2d_transpose_3 (\u001b[38;5;33mConv2DTranspose\u001b[0m) │ (\u001b[38;5;45mNone\u001b[0m, \u001b[38;5;34m7\u001b[0m, \u001b[38;5;34m7\u001b[0m, \u001b[38;5;34m128\u001b[0m)           │         \u001b[38;5;34m819,200\u001b[0m │\n",
              "├──────────────────────────────────────┼─────────────────────────────┼─────────────────┤\n",
              "│ batch_normalization_4                │ (\u001b[38;5;45mNone\u001b[0m, \u001b[38;5;34m7\u001b[0m, \u001b[38;5;34m7\u001b[0m, \u001b[38;5;34m128\u001b[0m)           │             \u001b[38;5;34m512\u001b[0m │\n",
              "│ (\u001b[38;5;33mBatchNormalization\u001b[0m)                 │                             │                 │\n",
              "├──────────────────────────────────────┼─────────────────────────────┼─────────────────┤\n",
              "│ leaky_re_lu_6 (\u001b[38;5;33mLeakyReLU\u001b[0m)            │ (\u001b[38;5;45mNone\u001b[0m, \u001b[38;5;34m7\u001b[0m, \u001b[38;5;34m7\u001b[0m, \u001b[38;5;34m128\u001b[0m)           │               \u001b[38;5;34m0\u001b[0m │\n",
              "├──────────────────────────────────────┼─────────────────────────────┼─────────────────┤\n",
              "│ conv2d_transpose_4 (\u001b[38;5;33mConv2DTranspose\u001b[0m) │ (\u001b[38;5;45mNone\u001b[0m, \u001b[38;5;34m14\u001b[0m, \u001b[38;5;34m14\u001b[0m, \u001b[38;5;34m64\u001b[0m)          │         \u001b[38;5;34m204,800\u001b[0m │\n",
              "├──────────────────────────────────────┼─────────────────────────────┼─────────────────┤\n",
              "│ batch_normalization_5                │ (\u001b[38;5;45mNone\u001b[0m, \u001b[38;5;34m14\u001b[0m, \u001b[38;5;34m14\u001b[0m, \u001b[38;5;34m64\u001b[0m)          │             \u001b[38;5;34m256\u001b[0m │\n",
              "│ (\u001b[38;5;33mBatchNormalization\u001b[0m)                 │                             │                 │\n",
              "├──────────────────────────────────────┼─────────────────────────────┼─────────────────┤\n",
              "│ leaky_re_lu_7 (\u001b[38;5;33mLeakyReLU\u001b[0m)            │ (\u001b[38;5;45mNone\u001b[0m, \u001b[38;5;34m14\u001b[0m, \u001b[38;5;34m14\u001b[0m, \u001b[38;5;34m64\u001b[0m)          │               \u001b[38;5;34m0\u001b[0m │\n",
              "├──────────────────────────────────────┼─────────────────────────────┼─────────────────┤\n",
              "│ conv2d_transpose_5 (\u001b[38;5;33mConv2DTranspose\u001b[0m) │ (\u001b[38;5;45mNone\u001b[0m, \u001b[38;5;34m28\u001b[0m, \u001b[38;5;34m28\u001b[0m, \u001b[38;5;34m1\u001b[0m)           │           \u001b[38;5;34m1,600\u001b[0m │\n",
              "└──────────────────────────────────────┴─────────────────────────────┴─────────────────┘\n"
            ],
            "text/html": [
              "<pre style=\"white-space:pre;overflow-x:auto;line-height:normal;font-family:Menlo,'DejaVu Sans Mono',consolas,'Courier New',monospace\">┏━━━━━━━━━━━━━━━━━━━━━━━━━━━━━━━━━━━━━━┳━━━━━━━━━━━━━━━━━━━━━━━━━━━━━┳━━━━━━━━━━━━━━━━━┓\n",
              "┃<span style=\"font-weight: bold\"> Layer (type)                         </span>┃<span style=\"font-weight: bold\"> Output Shape                </span>┃<span style=\"font-weight: bold\">         Param # </span>┃\n",
              "┡━━━━━━━━━━━━━━━━━━━━━━━━━━━━━━━━━━━━━━╇━━━━━━━━━━━━━━━━━━━━━━━━━━━━━╇━━━━━━━━━━━━━━━━━┩\n",
              "│ dense_2 (<span style=\"color: #0087ff; text-decoration-color: #0087ff\">Dense</span>)                      │ (<span style=\"color: #00d7ff; text-decoration-color: #00d7ff\">None</span>, <span style=\"color: #00af00; text-decoration-color: #00af00\">12544</span>)               │       <span style=\"color: #00af00; text-decoration-color: #00af00\">1,254,400</span> │\n",
              "├──────────────────────────────────────┼─────────────────────────────┼─────────────────┤\n",
              "│ batch_normalization_3                │ (<span style=\"color: #00d7ff; text-decoration-color: #00d7ff\">None</span>, <span style=\"color: #00af00; text-decoration-color: #00af00\">12544</span>)               │          <span style=\"color: #00af00; text-decoration-color: #00af00\">50,176</span> │\n",
              "│ (<span style=\"color: #0087ff; text-decoration-color: #0087ff\">BatchNormalization</span>)                 │                             │                 │\n",
              "├──────────────────────────────────────┼─────────────────────────────┼─────────────────┤\n",
              "│ leaky_re_lu_5 (<span style=\"color: #0087ff; text-decoration-color: #0087ff\">LeakyReLU</span>)            │ (<span style=\"color: #00d7ff; text-decoration-color: #00d7ff\">None</span>, <span style=\"color: #00af00; text-decoration-color: #00af00\">12544</span>)               │               <span style=\"color: #00af00; text-decoration-color: #00af00\">0</span> │\n",
              "├──────────────────────────────────────┼─────────────────────────────┼─────────────────┤\n",
              "│ reshape_1 (<span style=\"color: #0087ff; text-decoration-color: #0087ff\">Reshape</span>)                  │ (<span style=\"color: #00d7ff; text-decoration-color: #00d7ff\">None</span>, <span style=\"color: #00af00; text-decoration-color: #00af00\">7</span>, <span style=\"color: #00af00; text-decoration-color: #00af00\">7</span>, <span style=\"color: #00af00; text-decoration-color: #00af00\">256</span>)           │               <span style=\"color: #00af00; text-decoration-color: #00af00\">0</span> │\n",
              "├──────────────────────────────────────┼─────────────────────────────┼─────────────────┤\n",
              "│ conv2d_transpose_3 (<span style=\"color: #0087ff; text-decoration-color: #0087ff\">Conv2DTranspose</span>) │ (<span style=\"color: #00d7ff; text-decoration-color: #00d7ff\">None</span>, <span style=\"color: #00af00; text-decoration-color: #00af00\">7</span>, <span style=\"color: #00af00; text-decoration-color: #00af00\">7</span>, <span style=\"color: #00af00; text-decoration-color: #00af00\">128</span>)           │         <span style=\"color: #00af00; text-decoration-color: #00af00\">819,200</span> │\n",
              "├──────────────────────────────────────┼─────────────────────────────┼─────────────────┤\n",
              "│ batch_normalization_4                │ (<span style=\"color: #00d7ff; text-decoration-color: #00d7ff\">None</span>, <span style=\"color: #00af00; text-decoration-color: #00af00\">7</span>, <span style=\"color: #00af00; text-decoration-color: #00af00\">7</span>, <span style=\"color: #00af00; text-decoration-color: #00af00\">128</span>)           │             <span style=\"color: #00af00; text-decoration-color: #00af00\">512</span> │\n",
              "│ (<span style=\"color: #0087ff; text-decoration-color: #0087ff\">BatchNormalization</span>)                 │                             │                 │\n",
              "├──────────────────────────────────────┼─────────────────────────────┼─────────────────┤\n",
              "│ leaky_re_lu_6 (<span style=\"color: #0087ff; text-decoration-color: #0087ff\">LeakyReLU</span>)            │ (<span style=\"color: #00d7ff; text-decoration-color: #00d7ff\">None</span>, <span style=\"color: #00af00; text-decoration-color: #00af00\">7</span>, <span style=\"color: #00af00; text-decoration-color: #00af00\">7</span>, <span style=\"color: #00af00; text-decoration-color: #00af00\">128</span>)           │               <span style=\"color: #00af00; text-decoration-color: #00af00\">0</span> │\n",
              "├──────────────────────────────────────┼─────────────────────────────┼─────────────────┤\n",
              "│ conv2d_transpose_4 (<span style=\"color: #0087ff; text-decoration-color: #0087ff\">Conv2DTranspose</span>) │ (<span style=\"color: #00d7ff; text-decoration-color: #00d7ff\">None</span>, <span style=\"color: #00af00; text-decoration-color: #00af00\">14</span>, <span style=\"color: #00af00; text-decoration-color: #00af00\">14</span>, <span style=\"color: #00af00; text-decoration-color: #00af00\">64</span>)          │         <span style=\"color: #00af00; text-decoration-color: #00af00\">204,800</span> │\n",
              "├──────────────────────────────────────┼─────────────────────────────┼─────────────────┤\n",
              "│ batch_normalization_5                │ (<span style=\"color: #00d7ff; text-decoration-color: #00d7ff\">None</span>, <span style=\"color: #00af00; text-decoration-color: #00af00\">14</span>, <span style=\"color: #00af00; text-decoration-color: #00af00\">14</span>, <span style=\"color: #00af00; text-decoration-color: #00af00\">64</span>)          │             <span style=\"color: #00af00; text-decoration-color: #00af00\">256</span> │\n",
              "│ (<span style=\"color: #0087ff; text-decoration-color: #0087ff\">BatchNormalization</span>)                 │                             │                 │\n",
              "├──────────────────────────────────────┼─────────────────────────────┼─────────────────┤\n",
              "│ leaky_re_lu_7 (<span style=\"color: #0087ff; text-decoration-color: #0087ff\">LeakyReLU</span>)            │ (<span style=\"color: #00d7ff; text-decoration-color: #00d7ff\">None</span>, <span style=\"color: #00af00; text-decoration-color: #00af00\">14</span>, <span style=\"color: #00af00; text-decoration-color: #00af00\">14</span>, <span style=\"color: #00af00; text-decoration-color: #00af00\">64</span>)          │               <span style=\"color: #00af00; text-decoration-color: #00af00\">0</span> │\n",
              "├──────────────────────────────────────┼─────────────────────────────┼─────────────────┤\n",
              "│ conv2d_transpose_5 (<span style=\"color: #0087ff; text-decoration-color: #0087ff\">Conv2DTranspose</span>) │ (<span style=\"color: #00d7ff; text-decoration-color: #00d7ff\">None</span>, <span style=\"color: #00af00; text-decoration-color: #00af00\">28</span>, <span style=\"color: #00af00; text-decoration-color: #00af00\">28</span>, <span style=\"color: #00af00; text-decoration-color: #00af00\">1</span>)           │           <span style=\"color: #00af00; text-decoration-color: #00af00\">1,600</span> │\n",
              "└──────────────────────────────────────┴─────────────────────────────┴─────────────────┘\n",
              "</pre>\n"
            ]
          },
          "metadata": {}
        },
        {
          "output_type": "display_data",
          "data": {
            "text/plain": [
              "\u001b[1m Total params: \u001b[0m\u001b[38;5;34m2,330,944\u001b[0m (8.89 MB)\n"
            ],
            "text/html": [
              "<pre style=\"white-space:pre;overflow-x:auto;line-height:normal;font-family:Menlo,'DejaVu Sans Mono',consolas,'Courier New',monospace\"><span style=\"font-weight: bold\"> Total params: </span><span style=\"color: #00af00; text-decoration-color: #00af00\">2,330,944</span> (8.89 MB)\n",
              "</pre>\n"
            ]
          },
          "metadata": {}
        },
        {
          "output_type": "display_data",
          "data": {
            "text/plain": [
              "\u001b[1m Trainable params: \u001b[0m\u001b[38;5;34m2,305,472\u001b[0m (8.79 MB)\n"
            ],
            "text/html": [
              "<pre style=\"white-space:pre;overflow-x:auto;line-height:normal;font-family:Menlo,'DejaVu Sans Mono',consolas,'Courier New',monospace\"><span style=\"font-weight: bold\"> Trainable params: </span><span style=\"color: #00af00; text-decoration-color: #00af00\">2,305,472</span> (8.79 MB)\n",
              "</pre>\n"
            ]
          },
          "metadata": {}
        },
        {
          "output_type": "display_data",
          "data": {
            "text/plain": [
              "\u001b[1m Non-trainable params: \u001b[0m\u001b[38;5;34m25,472\u001b[0m (99.50 KB)\n"
            ],
            "text/html": [
              "<pre style=\"white-space:pre;overflow-x:auto;line-height:normal;font-family:Menlo,'DejaVu Sans Mono',consolas,'Courier New',monospace\"><span style=\"font-weight: bold\"> Non-trainable params: </span><span style=\"color: #00af00; text-decoration-color: #00af00\">25,472</span> (99.50 KB)\n",
              "</pre>\n"
            ]
          },
          "metadata": {}
        },
        {
          "output_type": "execute_result",
          "data": {
            "text/plain": [
              "<matplotlib.image.AxesImage at 0x7e737542e920>"
            ]
          },
          "metadata": {},
          "execution_count": 26
        },
        {
          "output_type": "display_data",
          "data": {
            "text/plain": [
              "<Figure size 640x480 with 1 Axes>"
            ],
            "image/png": "[encoded data removed]"
          },
          "metadata": {}
        }
      ]
    },
    {
      "cell_type": "markdown",
      "source": [
        "### Build the Discriminator\n",
        "\n",
        "The discriminator is an image classifier, which has two convolutional layers, with [`LeakyReLU`](https://www.tensorflow.org/api_docs/python/tf/keras/layers/LeakyReLU) activation and 30% [`Dropout`](https://www.tensorflow.org/api_docs/python/tf/keras/layers/Dropout). The discriminator takes as inputs with a shape of 28x28x1 and outputs a single value, which represents a decision about whether the input has been sampled from the MNIST dataset directly (i.e. is real) or has been generated by the generator (i.e. is fake). A value of 1 represents a real input and 0 represents a fake output."
      ],
      "metadata": {
        "id": "uyM2adWHBNBQ"
      }
    },
    {
      "cell_type": "code",
      "source": [
        "def build_discriminator():\n",
        "    model = tf.keras.Sequential()\n",
        "    model.add(layers.Conv2D(64, (5, 5), strides=(2, 2), padding='same',\n",
        "                                     input_shape=[28, 28, 1]))\n",
        "    assert model.output_shape == (None, 14, 14, 64)\n",
        "    model.add(layers.LeakyReLU())\n",
        "    model.add(layers.Dropout(0.3))\n",
        "\n",
        "    model.add(layers.Conv2D(128, (5, 5), strides=(2, 2), padding='same'))\n",
        "    assert model.output_shape == (None, 7, 7, 128)\n",
        "    model.add(layers.LeakyReLU())\n",
        "    model.add(layers.Dropout(0.3))\n",
        "\n",
        "    model.add(layers.Flatten())\n",
        "    model.add(layers.Dense(1))\n",
        "\n",
        "    return model"
      ],
      "metadata": {
        "id": "C5gig0GiA6CK"
      },
      "execution_count": null,
      "outputs": []
    },
    {
      "cell_type": "markdown",
      "source": [
        "To test that the discrimiator is working we can provide it with the `generated_image` created earlier as input and check that we get a single value as its output."
      ],
      "metadata": {
        "id": "tYc3MNxXRvUV"
      }
    },
    {
      "cell_type": "code",
      "source": [
        "discriminator = build_discriminator()\n",
        "decision = discriminator(generated_image)\n",
        "print(decision)"
      ],
      "metadata": {
        "colab": {
          "base_uri": "https://localhost:8080/"
        },
        "id": "MEF_P6ROBAVB",
        "outputId": "ddb6571f-ce84-4ec7-b438-656dfd35518c"
      },
      "execution_count": null,
      "outputs": [
        {
          "output_type": "stream",
          "name": "stdout",
          "text": [
            "tf.Tensor([[-0.00260241]], shape=(1, 1), dtype=float32)\n"
          ]
        }
      ]
    },
    {
      "cell_type": "markdown",
      "source": [
        "### Define the Loss and Optimisers\n",
        "\n",
        "Define loss functions and optimizers for both the generator and the discriminator. We start by defining a helper function for computing the Binary Crossentropy loss. Note the use of `from_logits=True`, this indicates that the values provided have not been passed through a `SoftMax` function, i.e., they do not represent a probability. This makes sense for this case because there is just one output from the network."
      ],
      "metadata": {
        "id": "2KM86Py5FtOT"
      }
    },
    {
      "cell_type": "code",
      "source": [
        "# This method returns a helper function to compute cross entropy loss\n",
        "cross_entropy = tf.keras.losses.BinaryCrossentropy(from_logits=True)"
      ],
      "metadata": {
        "id": "SWKqbVAwF4yq"
      },
      "execution_count": null,
      "outputs": []
    },
    {
      "cell_type": "markdown",
      "source": [
        "#### Discriminator loss\n",
        "\n",
        "This method quantifies how well the discriminator is able to distinguish real from fake inputs. Given a batches of real and fake outputs, it compares the discriminator's predictions on real inputs to an array of 1s, and the discriminator's predictions on fake (generated) inputs to an array of 0s. The loss is simply the sum of the losses on the real and fake inputs."
      ],
      "metadata": {
        "id": "zM07M6vfF_i1"
      }
    },
    {
      "cell_type": "code",
      "source": [
        "def discriminator_loss(real_output, fake_output):\n",
        "    real_loss = cross_entropy(tf.ones_like(real_output), real_output)\n",
        "    fake_loss = cross_entropy(tf.zeros_like(fake_output), fake_output)\n",
        "    total_loss = real_loss + fake_loss\n",
        "    return total_loss"
      ],
      "metadata": {
        "id": "1Ivvh4C6GJzT"
      },
      "execution_count": null,
      "outputs": []
    },
    {
      "cell_type": "markdown",
      "source": [
        "#### Generator Loss\n",
        "\n",
        "The generator's loss quantifies how well it was able to trick the discriminator. Intuitively, if the generator is performing well, the discriminator will classify the fake images as real (or 1). So, instead of comparing the discriminators decisions on fake (generated) inputs against an array of 0s, as for the descriminator loss, it compares the discriminators decisions on the generated images to an array of 1s."
      ],
      "metadata": {
        "id": "ihzyqcm3GUc2"
      }
    },
    {
      "cell_type": "code",
      "source": [
        "def generator_loss(fake_output):\n",
        "    return cross_entropy(tf.ones_like(fake_output), fake_output)"
      ],
      "metadata": {
        "id": "7l5VT-p5GbS1"
      },
      "execution_count": null,
      "outputs": []
    },
    {
      "cell_type": "markdown",
      "source": [
        "The optimisers for the discriminator and the generator are different because they are trained separately, and so need to keep separate metrics for training momentum, etc."
      ],
      "metadata": {
        "id": "XhVAYwq7G2aj"
      }
    },
    {
      "cell_type": "code",
      "source": [
        "generator_optimizer = tf.keras.optimizers.Adam(1e-4)\n",
        "discriminator_optimizer = tf.keras.optimizers.Adam(1e-4)"
      ],
      "metadata": {
        "id": "G1BxE-ALG-8j"
      },
      "execution_count": null,
      "outputs": []
    },
    {
      "cell_type": "markdown",
      "source": [
        "#### Save checkpoints\n",
        "\n",
        "It can be very helpful in case a long running training tasks, such as when training GANs, to save checkpoints, so that training can be restarted should it be interrupted. This notebook demonstrates how to set this up.\n",
        "\n",
        "Note that the checkpoints saved here will not persist a restart of the Colab runtime, which does not maintain the contents of the filesystem. To make better use of checkpoints, either [link your Google Drive to your Colab runtime](https://colab.research.google.com/notebooks/io.ipynb#scrollTo=u22w3BFiOveA) to provide persistent storage, or [setup a local Jupyter notebook server](https://jupyter.org) as your development environment (if you have a sufficiently powerful GPU to support machine learning).\n",
        "\n",
        "#### Linking your Google Drive\n",
        "\n",
        "Linking your Google Drive to a Colab runtime is relatively simple and will provide the easiest way to save checkpoints for the future. Evaluating the following code in a cell will prompt you to permit the runtime permission to access your Google Drive:\n",
        "\n",
        "    from google.colab import drive\n",
        "    drive.mount('/content/drive')\n",
        "\n",
        "Files can then be saved to the directory `/content/drive/My\\ Drive/` and it will appear in your Google Drive. For example, after granting permission, the following will create a file called `foo.txt` in the root of your Google Drive:\n",
        "\n",
        "    with open('/content/drive/My Drive/foo.txt', 'w') as f:\n",
        "      f.write('Hello Google Drive!')\n",
        "    !cat /content/drive/My\\ Drive/foo.txt\n",
        "\n",
        "Don't forget to unmount your Google Drive once your done saving files, e.g., at the end of a training session. This will ensure that all of the data has been saved:\n",
        "\n",
        "    drive.flush_and_unmount()"
      ],
      "metadata": {
        "id": "w41D4NpQHR5m"
      }
    },
    {
      "cell_type": "code",
      "source": [
        "checkpoint_dir = './drive/MyDrive/training_checkpoints'\n",
        "checkpoint_prefix = os.path.join(checkpoint_dir, \"ckpt\")\n",
        "checkpoint = tf.train.Checkpoint(generator_optimizer=generator_optimizer,\n",
        "                                 discriminator_optimizer=discriminator_optimizer,\n",
        "                                 generator=generator,\n",
        "                                 discriminator=discriminator)"
      ],
      "metadata": {
        "id": "fT8KarbDHauW"
      },
      "execution_count": null,
      "outputs": []
    },
    {
      "cell_type": "code",
      "source": [
        "from google.colab import drive\n",
        "drive.mount('/content/drive')"
      ],
      "metadata": {
        "colab": {
          "base_uri": "https://localhost:8080/"
        },
        "id": "sAVA8iPAmiAO",
        "outputId": "8d68713a-063a-4c13-ef39-354d557b2585"
      },
      "execution_count": null,
      "outputs": [
        {
          "output_type": "stream",
          "name": "stdout",
          "text": [
            "Mounted at /content/drive\n"
          ]
        }
      ]
    },
    {
      "cell_type": "code",
      "source": [
        "checkpoint_prefix"
      ],
      "metadata": {
        "colab": {
          "base_uri": "https://localhost:8080/",
          "height": 36
        },
        "id": "c5pAfBM0m4o7",
        "outputId": "cbac87ee-0ad5-491a-a353-a455e7b9a319"
      },
      "execution_count": null,
      "outputs": [
        {
          "output_type": "execute_result",
          "data": {
            "text/plain": [
              "'./drive/MyDrive/training_checkpoints/ckpt'"
            ],
            "application/vnd.google.colaboratory.intrinsic+json": {
              "type": "string"
            }
          },
          "metadata": {},
          "execution_count": 35
        }
      ]
    },
    {
      "cell_type": "markdown",
      "source": [
        "### Define the training loop\n"
      ],
      "metadata": {
        "id": "qkd7Zl2AIddj"
      }
    },
    {
      "cell_type": "markdown",
      "source": [
        "First we define some constants for the training loop. The total number of epochs and the number of epochs between saving checkpoints."
      ],
      "metadata": {
        "id": "yFsZrPFQwUVg"
      }
    },
    {
      "cell_type": "code",
      "source": [
        "EPOCHS = 50\n",
        "EPOCHS_BETWEEN_CHECKPOINTS = 10"
      ],
      "metadata": {
        "id": "so4wCMVcIjgw"
      },
      "execution_count": null,
      "outputs": []
    },
    {
      "cell_type": "markdown",
      "source": [
        "This function defines the custom training step required for GANs to take care of the training of both the generator and discriminator. The function takes as input a batch of real images (drawn from the training set), which are used to train only the discriminator.\n",
        "\n",
        "The training step begins with generator receiving a random seed as input. That seed is used to produce an image. The discriminator is then used to classify real images (drawn from the training set) and fakes images (produced by the generator). The loss is calculated for each of these models, and the gradients are used to update the generator and discriminator."
      ],
      "metadata": {
        "id": "H1kmITadjj1E"
      }
    },
    {
      "cell_type": "code",
      "source": [
        "# Notice the use of the `tf.function` decorator\n",
        "# This annotation causes the function to be \"compiled\".\n",
        "@tf.function\n",
        "def train_step(images):\n",
        "    noise = tf.random.normal([BATCH_SIZE, NOISE_DIM])\n",
        "\n",
        "    with tf.GradientTape() as gen_tape, tf.GradientTape() as disc_tape:\n",
        "      generated_images = generator(noise, training=True)\n",
        "\n",
        "      real_output = discriminator(images, training=True)\n",
        "      fake_output = discriminator(generated_images, training=True)\n",
        "\n",
        "      gen_loss = generator_loss(fake_output)\n",
        "      disc_loss = discriminator_loss(real_output, fake_output)\n",
        "\n",
        "    gradients_of_generator = gen_tape.gradient(gen_loss, generator.trainable_variables)\n",
        "    gradients_of_discriminator = disc_tape.gradient(disc_loss, discriminator.trainable_variables)\n",
        "\n",
        "    generator_optimizer.apply_gradients(zip(gradients_of_generator, generator.trainable_variables))\n",
        "    discriminator_optimizer.apply_gradients(zip(gradients_of_discriminator, discriminator.trainable_variables))\n",
        "\n",
        "    return gen_loss, disc_loss"
      ],
      "metadata": {
        "id": "WQtQ1O3hjk7y"
      },
      "execution_count": null,
      "outputs": []
    },
    {
      "cell_type": "markdown",
      "source": [
        "#### Training the GAN\n",
        "\n",
        "The `train()` function defines a simple training loop, which iterates through the dataset in batches for the given number of epochs. This function tracks the losses of the generator and discriminator and reports on it for each epoch. The function also saves a checkpoint every few epochs."
      ],
      "metadata": {
        "id": "Rg4Wyn-NxOnx"
      }
    },
    {
      "cell_type": "code",
      "source": [
        "def train(dataset, epochs):\n",
        "  epoch_gen_loss = tf.keras.metrics.Mean(name=\"epoch_gen_loss\")\n",
        "  epoch_disc_loss = tf.keras.metrics.Mean(name=\"epoch_disc_loss\")\n",
        "\n",
        "  for epoch in range(epochs):\n",
        "    start = time.time()\n",
        "\n",
        "    for image_batch in dataset:\n",
        "      gen_loss, disc_loss = train_step(image_batch)\n",
        "      epoch_gen_loss.update_state(gen_loss)\n",
        "      epoch_disc_loss.update_state(disc_loss)\n",
        "\n",
        "    mean_gen_loss = epoch_gen_loss.result()\n",
        "    mean_disc_loss = epoch_disc_loss.result()\n",
        "\n",
        "    # Save the model every few epochs (EPOCHS_BETWEEN_CHECKPOINTS)\n",
        "    if (epoch + 1) % EPOCHS_BETWEEN_CHECKPOINTS == 0:\n",
        "      checkpoint.save(file_prefix = checkpoint_prefix)\n",
        "\n",
        "    print('Epoch {} in {} sec, gen_loss = {}, disc_loss = {}'.format(epoch + 1, time.time()-start, mean_gen_loss, mean_disc_loss))\n",
        "    epoch_gen_loss.reset_state()\n",
        "    epoch_disc_loss.reset_state()"
      ],
      "metadata": {
        "id": "ZhSIIkYjtu6N"
      },
      "execution_count": null,
      "outputs": []
    },
    {
      "cell_type": "markdown",
      "source": [
        "Call the `train()` method defined above to train the generator and discriminator simultaneously. Note, training GANs can be tricky. It's important that the generator and discriminator do not overpower each other (e.g., that they train at a similar rate)."
      ],
      "metadata": {
        "id": "w2-1wlch5XNz"
      }
    },
    {
      "cell_type": "code",
      "source": [
        "train(train_dataset, 10)"
      ],
      "metadata": {
        "colab": {
          "base_uri": "https://localhost:8080/"
        },
        "id": "tjvspHF65mFm",
        "outputId": "b4de3477-00dc-4b10-d6aa-21e475d60efc"
      },
      "execution_count": null,
      "outputs": [
        {
          "output_type": "stream",
          "name": "stdout",
          "text": [
            "Epoch 1 in 20.559908390045166 sec, gen_loss = 0.6754458546638489, disc_loss = 0.9572916030883789\n",
            "Epoch 2 in 2.543269157409668 sec, gen_loss = 0.6760755777359009, disc_loss = 0.9941240549087524\n",
            "Epoch 3 in 2.5433011054992676 sec, gen_loss = 1.0035998821258545, disc_loss = 0.7365237474441528\n",
            "Epoch 4 in 2.057420015335083 sec, gen_loss = 1.1703001260757446, disc_loss = 0.7268197536468506\n",
            "Epoch 5 in 2.055328369140625 sec, gen_loss = 1.1376445293426514, disc_loss = 0.8181709051132202\n",
            "Epoch 6 in 2.06109881401062 sec, gen_loss = 0.8900183439254761, disc_loss = 1.0984370708465576\n",
            "Epoch 7 in 2.063098192214966 sec, gen_loss = 0.6568279266357422, disc_loss = 1.4869216680526733\n",
            "Epoch 8 in 2.543790578842163 sec, gen_loss = 0.7262070178985596, disc_loss = 1.3859566450119019\n",
            "Epoch 9 in 2.5432960987091064 sec, gen_loss = 0.8262154459953308, disc_loss = 1.2351444959640503\n",
            "Epoch 10 in 2.746218204498291 sec, gen_loss = 0.8344828486442566, disc_loss = 1.2876919507980347\n"
          ]
        }
      ]
    },
    {
      "cell_type": "markdown",
      "source": [
        "#### Plotting the losses during training\n",
        "\n",
        "By default the training set is only 10,000 samples from the full dataset, however, based on previous experience we might expect the loss values to decrease over time. To confirm this we might want to plot the values of the loss. The following alternative training function `train_with_plot()` uses the `livelossplot` library we loaded at the start."
      ],
      "metadata": {
        "id": "yK1AX9ayyT3t"
      }
    },
    {
      "cell_type": "code",
      "source": [
        "def train_with_plot(dataset, epochs):\n",
        "  plotlosses = PlotLosses(from_step=2, groups={'loss':['gen_loss','disc_loss']})\n",
        "  epoch_gen_loss = tf.keras.metrics.Mean(name=\"epoch_gen_loss\")\n",
        "  epoch_disc_loss = tf.keras.metrics.Mean(name=\"epoch_disc_loss\")\n",
        "\n",
        "  for epoch in range(epochs):\n",
        "    start = time.time()\n",
        "\n",
        "    for image_batch in dataset:\n",
        "      gen_loss, disc_loss = train_step(image_batch)\n",
        "      epoch_gen_loss.update_state(gen_loss)\n",
        "      epoch_disc_loss.update_state(disc_loss)\n",
        "\n",
        "    total_gen_loss = epoch_gen_loss.result()\n",
        "    total_disc_loss = epoch_disc_loss.result()\n",
        "\n",
        "    # Save the model every few epochs (EPOCHS_BETWEEN_CHECKPOINTS)\n",
        "    if (epoch + 1) % EPOCHS_BETWEEN_CHECKPOINTS == 0:\n",
        "      checkpoint.save(file_prefix = checkpoint_prefix)\n",
        "\n",
        "    # print('Epoch {} in {} sec, gen_loss = {}, disc_loss = {}'.format(epoch + 1, time.time()-start, total_gen_loss, total_disc_loss))\n",
        "    plotlosses.update({'gen_loss': total_gen_loss, 'disc_loss': total_disc_loss})\n",
        "    plotlosses.send()\n",
        "    epoch_gen_loss.reset_state()\n",
        "    epoch_disc_loss.reset_state()"
      ],
      "metadata": {
        "id": "PzLWEghD4jh0"
      },
      "execution_count": null,
      "outputs": []
    },
    {
      "cell_type": "markdown",
      "source": [
        "To get a better picture of the change in loss over time, we can run this new training function over more epochs. To be completely sure that the lack of improvement in loss is not a product of the small dataset you may want to redefine `train_dataset` after changing the value for `DATASET_SIZE`."
      ],
      "metadata": {
        "id": "IYZXXrL1zTs3"
      }
    },
    {
      "cell_type": "code",
      "source": [
        "train_with_plot(train_dataset, EPOCHS)"
      ],
      "metadata": {
        "colab": {
          "base_uri": "https://localhost:8080/",
          "height": 861
        },
        "id": "8JkzhIRuvcQ9",
        "outputId": "ed520eee-3e41-4d13-aca7-128c031bb92a"
      },
      "execution_count": null,
      "outputs": [
        {
          "output_type": "display_data",
          "data": {
            "text/plain": [
              "<Figure size 1200x800 with 2 Axes>"
            ],
            "image/png": "[encoded data removed]"
          },
          "metadata": {}
        },
        {
          "output_type": "stream",
          "name": "stdout",
          "text": [
            "Loss\n",
            "\tgen_loss         \t (min:    0.715, max:    1.231, cur:    0.956)\n",
            "\tdisc_loss        \t (min:    0.869, max:    1.600, cur:    1.145)\n"
          ]
        }
      ]
    },
    {
      "cell_type": "markdown",
      "source": [
        "So what is happening? The changes in loss for the generator and discriminator are clearly related, almost mirroring each other around a value of 1.\n",
        "\n",
        "If we think back to the definitions for `generator_loss()` and `discriminator_loss()`, which are defined in opposition with respect to the discriminator's ability to determine whether an image is generated. The differences between the changes in loss can be accounted for by the additional loss for the discriminator that penalises the misattribution of real images as fake.\n",
        "\n",
        "Over time, as the generator and discriminator train and adapt to each other the losses may tend towards 1. In general, we want the networks to remained balanced, so monitoring the losses can be helpful but may not be conclusive that the training is complete at any particular point. This is another reason why it is helpful to save checkpoints. We can test the GAN and if it appears to require further training we can pick up where we left off."
      ],
      "metadata": {
        "id": "n-y-vvQf0EbG"
      }
    },
    {
      "cell_type": "markdown",
      "source": [
        "#### Visualising the progress of the GAN training\n",
        "\n",
        "To get a better understanding of the progress being made by the GAN we can visualise the output of the generator and see how it becomes increasingly like the target dataset.\n",
        "\n",
        "We begin by defining some constants to control the number of examples to generate after each epoch. A seed array of normally distributed noise vectors is also defined so that the generator is given the same input each time the images are produced."
      ],
      "metadata": {
        "id": "OIUQqQbp3UPv"
      }
    },
    {
      "cell_type": "code",
      "source": [
        "NUM_EXAMPLES_TO_GENERATE = 16\n",
        "\n",
        "# Reusing this seed allows the progress of the network to be visualize\n",
        "# by generating images given the same inputs each time\n",
        "seed = tf.random.normal([NUM_EXAMPLES_TO_GENERATE, NOISE_DIM])"
      ],
      "metadata": {
        "id": "7jho2OEts_J9"
      },
      "execution_count": null,
      "outputs": []
    },
    {
      "cell_type": "markdown",
      "source": [
        "The following function generates and saves the images to the local filesystem."
      ],
      "metadata": {
        "id": "WxHydova4bcT"
      }
    },
    {
      "cell_type": "code",
      "source": [
        "def generate_and_save_images(model, epoch, test_input):\n",
        "  # Notice `training` is set to False.\n",
        "  # This is so all layers run in inference mode (batchnorm).\n",
        "  predictions = model(test_input, training=False)\n",
        "\n",
        "  fig = plt.figure(figsize=(4, 4))\n",
        "\n",
        "  for i in range(predictions.shape[0]):\n",
        "      plt.subplot(4, 4, i+1)\n",
        "      plt.imshow(predictions[i, :, :, 0] * 127.5 + 127.5, cmap='gray')\n",
        "      plt.axis('off')\n",
        "\n",
        "  plt.savefig('image_at_epoch_{:04d}.png'.format(epoch))\n",
        "  plt.show()"
      ],
      "metadata": {
        "id": "vEB_xHy_lNni"
      },
      "execution_count": null,
      "outputs": []
    },
    {
      "cell_type": "markdown",
      "source": [
        "This third variant of the training function uses the above function to generate and save a sample of images every epoch."
      ],
      "metadata": {
        "id": "KOEXgcih4y38"
      }
    },
    {
      "cell_type": "code",
      "source": [
        "from IPython import display\n",
        "\n",
        "def train_with_images(dataset, epochs):\n",
        "  for epoch in range(epochs):\n",
        "    start = time.time()\n",
        "\n",
        "    for image_batch in dataset:\n",
        "      train_step(image_batch)\n",
        "\n",
        "    # Produce images for the GIF as you go\n",
        "    display.clear_output(wait=True)\n",
        "    generate_and_save_images(generator, epoch + 1, seed)\n",
        "\n",
        "    # Save the model every 10 epochs\n",
        "    if (epoch + 1) % EPOCHS_BETWEEN_CHECKPOINTS == 0:\n",
        "      checkpoint.save(file_prefix = checkpoint_prefix)\n",
        "\n",
        "    print ('Time for epoch {} is {} sec'.format(epoch + 1, time.time()-start))\n",
        "\n",
        "  # Generate after the final epoch\n",
        "  display.clear_output(wait=True)\n",
        "  generate_and_save_images(generator, epochs, seed)"
      ],
      "metadata": {
        "id": "bBkBA_rIkkDP"
      },
      "execution_count": null,
      "outputs": []
    },
    {
      "cell_type": "markdown",
      "source": [
        "## Train the model\n",
        "\n",
        "At the beginning of the training, the generated images look like random noise. As training progresses, the generated digits will look increasingly real. After about 50 epochs, they resemble MNIST digits. This may take about one minute / epoch with the default settings on Colab."
      ],
      "metadata": {
        "id": "ujW5zAOvlWtL"
      }
    },
    {
      "cell_type": "code",
      "source": [
        "# Uncomment the following to redefine the train_dataset to include all of the dataset\n",
        "DATASET_SIZE = 60000\n",
        "train_dataset = tf.data.Dataset.from_tensor_slices(train_images[:DATASET_SIZE]).shuffle(DATASET_SIZE).batch(BATCH_SIZE)\n",
        "\n",
        "# Uncomment the following to increase the number of epochs the network will train for\n",
        "EPOCHS = 100\n",
        "\n",
        "train_with_images(train_dataset, EPOCHS)"
      ],
      "metadata": {
        "colab": {
          "base_uri": "https://localhost:8080/",
          "height": 679
        },
        "id": "bP8huJaElf3e",
        "outputId": "296cc52e-7e2a-433f-bec1-60cf0f181cce"
      },
      "execution_count": null,
      "outputs": [
        {
          "output_type": "display_data",
          "data": {
            "text/plain": [
              "<Figure size 400x400 with 16 Axes>"
            ],
            "image/png": "[encoded data removed]"
          },
          "metadata": {}
        },
        {
          "output_type": "stream",
          "name": "stdout",
          "text": [
            "Time for epoch 11 is 12.998868465423584 sec\n"
          ]
        },
        {
          "output_type": "error",
          "ename": "KeyboardInterrupt",
          "evalue": "",
          "traceback": [
            "\u001b[0;31m---------------------------------------------------------------------------\u001b[0m",
            "\u001b[0;31mKeyboardInterrupt\u001b[0m                         Traceback (most recent call last)",
            "\u001b[0;32m<ipython-input-45-b536a6a0dfa2>\u001b[0m in \u001b[0;36m<cell line: 8>\u001b[0;34m()\u001b[0m\n\u001b[1;32m      6\u001b[0m \u001b[0mEPOCHS\u001b[0m \u001b[0;34m=\u001b[0m \u001b[0;36m100\u001b[0m\u001b[0;34m\u001b[0m\u001b[0;34m\u001b[0m\u001b[0m\n\u001b[1;32m      7\u001b[0m \u001b[0;34m\u001b[0m\u001b[0m\n\u001b[0;32m----> 8\u001b[0;31m \u001b[0mtrain_with_images\u001b[0m\u001b[0;34m(\u001b[0m\u001b[0mtrain_dataset\u001b[0m\u001b[0;34m,\u001b[0m \u001b[0mEPOCHS\u001b[0m\u001b[0;34m)\u001b[0m\u001b[0;34m\u001b[0m\u001b[0;34m\u001b[0m\u001b[0m\n\u001b[0m",
            "\u001b[0;32m<ipython-input-44-b2d992ce91d3>\u001b[0m in \u001b[0;36mtrain_with_images\u001b[0;34m(dataset, epochs)\u001b[0m\n\u001b[1;32m      6\u001b[0m \u001b[0;34m\u001b[0m\u001b[0m\n\u001b[1;32m      7\u001b[0m     \u001b[0;32mfor\u001b[0m \u001b[0mimage_batch\u001b[0m \u001b[0;32min\u001b[0m \u001b[0mdataset\u001b[0m\u001b[0;34m:\u001b[0m\u001b[0;34m\u001b[0m\u001b[0;34m\u001b[0m\u001b[0m\n\u001b[0;32m----> 8\u001b[0;31m       \u001b[0mtrain_step\u001b[0m\u001b[0;34m(\u001b[0m\u001b[0mimage_batch\u001b[0m\u001b[0;34m)\u001b[0m\u001b[0;34m\u001b[0m\u001b[0;34m\u001b[0m\u001b[0m\n\u001b[0m\u001b[1;32m      9\u001b[0m \u001b[0;34m\u001b[0m\u001b[0m\n\u001b[1;32m     10\u001b[0m     \u001b[0;31m# Produce images for the GIF as you go\u001b[0m\u001b[0;34m\u001b[0m\u001b[0;34m\u001b[0m\u001b[0m\n",
            "\u001b[0;32m/usr/local/lib/python3.10/dist-packages/tensorflow/python/util/traceback_utils.py\u001b[0m in \u001b[0;36merror_handler\u001b[0;34m(*args, **kwargs)\u001b[0m\n\u001b[1;32m    148\u001b[0m     \u001b[0mfiltered_tb\u001b[0m \u001b[0;34m=\u001b[0m \u001b[0;32mNone\u001b[0m\u001b[0;34m\u001b[0m\u001b[0;34m\u001b[0m\u001b[0m\n\u001b[1;32m    149\u001b[0m     \u001b[0;32mtry\u001b[0m\u001b[0;34m:\u001b[0m\u001b[0;34m\u001b[0m\u001b[0;34m\u001b[0m\u001b[0m\n\u001b[0;32m--> 150\u001b[0;31m       \u001b[0;32mreturn\u001b[0m \u001b[0mfn\u001b[0m\u001b[0;34m(\u001b[0m\u001b[0;34m*\u001b[0m\u001b[0margs\u001b[0m\u001b[0;34m,\u001b[0m \u001b[0;34m**\u001b[0m\u001b[0mkwargs\u001b[0m\u001b[0;34m)\u001b[0m\u001b[0;34m\u001b[0m\u001b[0;34m\u001b[0m\u001b[0m\n\u001b[0m\u001b[1;32m    151\u001b[0m     \u001b[0;32mexcept\u001b[0m \u001b[0mException\u001b[0m \u001b[0;32mas\u001b[0m \u001b[0me\u001b[0m\u001b[0;34m:\u001b[0m\u001b[0;34m\u001b[0m\u001b[0;34m\u001b[0m\u001b[0m\n\u001b[1;32m    152\u001b[0m       \u001b[0mfiltered_tb\u001b[0m \u001b[0;34m=\u001b[0m \u001b[0m_process_traceback_frames\u001b[0m\u001b[0;34m(\u001b[0m\u001b[0me\u001b[0m\u001b[0;34m.\u001b[0m\u001b[0m__traceback__\u001b[0m\u001b[0;34m)\u001b[0m\u001b[0;34m\u001b[0m\u001b[0;34m\u001b[0m\u001b[0m\n",
            "\u001b[0;32m/usr/local/lib/python3.10/dist-packages/tensorflow/python/eager/polymorphic_function/polymorphic_function.py\u001b[0m in \u001b[0;36m__call__\u001b[0;34m(self, *args, **kwds)\u001b[0m\n\u001b[1;32m    831\u001b[0m \u001b[0;34m\u001b[0m\u001b[0m\n\u001b[1;32m    832\u001b[0m       \u001b[0;32mwith\u001b[0m \u001b[0mOptionalXlaContext\u001b[0m\u001b[0;34m(\u001b[0m\u001b[0mself\u001b[0m\u001b[0;34m.\u001b[0m\u001b[0m_jit_compile\u001b[0m\u001b[0;34m)\u001b[0m\u001b[0;34m:\u001b[0m\u001b[0;34m\u001b[0m\u001b[0;34m\u001b[0m\u001b[0m\n\u001b[0;32m--> 833\u001b[0;31m         \u001b[0mresult\u001b[0m \u001b[0;34m=\u001b[0m \u001b[0mself\u001b[0m\u001b[0;34m.\u001b[0m\u001b[0m_call\u001b[0m\u001b[0;34m(\u001b[0m\u001b[0;34m*\u001b[0m\u001b[0margs\u001b[0m\u001b[0;34m,\u001b[0m \u001b[0;34m**\u001b[0m\u001b[0mkwds\u001b[0m\u001b[0;34m)\u001b[0m\u001b[0;34m\u001b[0m\u001b[0;34m\u001b[0m\u001b[0m\n\u001b[0m\u001b[1;32m    834\u001b[0m \u001b[0;34m\u001b[0m\u001b[0m\n\u001b[1;32m    835\u001b[0m       \u001b[0mnew_tracing_count\u001b[0m \u001b[0;34m=\u001b[0m \u001b[0mself\u001b[0m\u001b[0;34m.\u001b[0m\u001b[0mexperimental_get_tracing_count\u001b[0m\u001b[0;34m(\u001b[0m\u001b[0;34m)\u001b[0m\u001b[0;34m\u001b[0m\u001b[0;34m\u001b[0m\u001b[0m\n",
            "\u001b[0;32m/usr/local/lib/python3.10/dist-packages/tensorflow/python/eager/polymorphic_function/polymorphic_function.py\u001b[0m in \u001b[0;36m_call\u001b[0;34m(self, *args, **kwds)\u001b[0m\n\u001b[1;32m    867\u001b[0m       \u001b[0;31m# In this case we have created variables on the first call, so we run the\u001b[0m\u001b[0;34m\u001b[0m\u001b[0;34m\u001b[0m\u001b[0m\n\u001b[1;32m    868\u001b[0m       \u001b[0;31m# defunned version which is guaranteed to never create variables.\u001b[0m\u001b[0;34m\u001b[0m\u001b[0;34m\u001b[0m\u001b[0m\n\u001b[0;32m--> 869\u001b[0;31m       return tracing_compilation.call_function(\n\u001b[0m\u001b[1;32m    870\u001b[0m           \u001b[0margs\u001b[0m\u001b[0;34m,\u001b[0m \u001b[0mkwds\u001b[0m\u001b[0;34m,\u001b[0m \u001b[0mself\u001b[0m\u001b[0;34m.\u001b[0m\u001b[0m_no_variable_creation_config\u001b[0m\u001b[0;34m\u001b[0m\u001b[0;34m\u001b[0m\u001b[0m\n\u001b[1;32m    871\u001b[0m       )\n",
            "\u001b[0;32m/usr/local/lib/python3.10/dist-packages/tensorflow/python/eager/polymorphic_function/tracing_compilation.py\u001b[0m in \u001b[0;36mcall_function\u001b[0;34m(args, kwargs, tracing_options)\u001b[0m\n\u001b[1;32m    137\u001b[0m   \u001b[0mbound_args\u001b[0m \u001b[0;34m=\u001b[0m \u001b[0mfunction\u001b[0m\u001b[0;34m.\u001b[0m\u001b[0mfunction_type\u001b[0m\u001b[0;34m.\u001b[0m\u001b[0mbind\u001b[0m\u001b[0;34m(\u001b[0m\u001b[0;34m*\u001b[0m\u001b[0margs\u001b[0m\u001b[0;34m,\u001b[0m \u001b[0;34m**\u001b[0m\u001b[0mkwargs\u001b[0m\u001b[0;34m)\u001b[0m\u001b[0;34m\u001b[0m\u001b[0;34m\u001b[0m\u001b[0m\n\u001b[1;32m    138\u001b[0m   \u001b[0mflat_inputs\u001b[0m \u001b[0;34m=\u001b[0m \u001b[0mfunction\u001b[0m\u001b[0;34m.\u001b[0m\u001b[0mfunction_type\u001b[0m\u001b[0;34m.\u001b[0m\u001b[0munpack_inputs\u001b[0m\u001b[0;34m(\u001b[0m\u001b[0mbound_args\u001b[0m\u001b[0;34m)\u001b[0m\u001b[0;34m\u001b[0m\u001b[0;34m\u001b[0m\u001b[0m\n\u001b[0;32m--> 139\u001b[0;31m   return function._call_flat(  # pylint: disable=protected-access\n\u001b[0m\u001b[1;32m    140\u001b[0m       \u001b[0mflat_inputs\u001b[0m\u001b[0;34m,\u001b[0m \u001b[0mcaptured_inputs\u001b[0m\u001b[0;34m=\u001b[0m\u001b[0mfunction\u001b[0m\u001b[0;34m.\u001b[0m\u001b[0mcaptured_inputs\u001b[0m\u001b[0;34m\u001b[0m\u001b[0;34m\u001b[0m\u001b[0m\n\u001b[1;32m    141\u001b[0m   )\n",
            "\u001b[0;32m/usr/local/lib/python3.10/dist-packages/tensorflow/python/eager/polymorphic_function/concrete_function.py\u001b[0m in \u001b[0;36m_call_flat\u001b[0;34m(self, tensor_inputs, captured_inputs)\u001b[0m\n\u001b[1;32m   1320\u001b[0m         and executing_eagerly):\n\u001b[1;32m   1321\u001b[0m       \u001b[0;31m# No tape is watching; skip to running the function.\u001b[0m\u001b[0;34m\u001b[0m\u001b[0;34m\u001b[0m\u001b[0m\n\u001b[0;32m-> 1322\u001b[0;31m       \u001b[0;32mreturn\u001b[0m \u001b[0mself\u001b[0m\u001b[0;34m.\u001b[0m\u001b[0m_inference_function\u001b[0m\u001b[0;34m.\u001b[0m\u001b[0mcall_preflattened\u001b[0m\u001b[0;34m(\u001b[0m\u001b[0margs\u001b[0m\u001b[0;34m)\u001b[0m\u001b[0;34m\u001b[0m\u001b[0;34m\u001b[0m\u001b[0m\n\u001b[0m\u001b[1;32m   1323\u001b[0m     forward_backward = self._select_forward_and_backward_functions(\n\u001b[1;32m   1324\u001b[0m         \u001b[0margs\u001b[0m\u001b[0;34m,\u001b[0m\u001b[0;34m\u001b[0m\u001b[0;34m\u001b[0m\u001b[0m\n",
            "\u001b[0;32m/usr/local/lib/python3.10/dist-packages/tensorflow/python/eager/polymorphic_function/atomic_function.py\u001b[0m in \u001b[0;36mcall_preflattened\u001b[0;34m(self, args)\u001b[0m\n\u001b[1;32m    214\u001b[0m   \u001b[0;32mdef\u001b[0m \u001b[0mcall_preflattened\u001b[0m\u001b[0;34m(\u001b[0m\u001b[0mself\u001b[0m\u001b[0;34m,\u001b[0m \u001b[0margs\u001b[0m\u001b[0;34m:\u001b[0m \u001b[0mSequence\u001b[0m\u001b[0;34m[\u001b[0m\u001b[0mcore\u001b[0m\u001b[0;34m.\u001b[0m\u001b[0mTensor\u001b[0m\u001b[0;34m]\u001b[0m\u001b[0;34m)\u001b[0m \u001b[0;34m->\u001b[0m \u001b[0mAny\u001b[0m\u001b[0;34m:\u001b[0m\u001b[0;34m\u001b[0m\u001b[0;34m\u001b[0m\u001b[0m\n\u001b[1;32m    215\u001b[0m     \u001b[0;34m\"\"\"Calls with flattened tensor inputs and returns the structured output.\"\"\"\u001b[0m\u001b[0;34m\u001b[0m\u001b[0;34m\u001b[0m\u001b[0m\n\u001b[0;32m--> 216\u001b[0;31m     \u001b[0mflat_outputs\u001b[0m \u001b[0;34m=\u001b[0m \u001b[0mself\u001b[0m\u001b[0;34m.\u001b[0m\u001b[0mcall_flat\u001b[0m\u001b[0;34m(\u001b[0m\u001b[0;34m*\u001b[0m\u001b[0margs\u001b[0m\u001b[0;34m)\u001b[0m\u001b[0;34m\u001b[0m\u001b[0;34m\u001b[0m\u001b[0m\n\u001b[0m\u001b[1;32m    217\u001b[0m     \u001b[0;32mreturn\u001b[0m \u001b[0mself\u001b[0m\u001b[0;34m.\u001b[0m\u001b[0mfunction_type\u001b[0m\u001b[0;34m.\u001b[0m\u001b[0mpack_output\u001b[0m\u001b[0;34m(\u001b[0m\u001b[0mflat_outputs\u001b[0m\u001b[0;34m)\u001b[0m\u001b[0;34m\u001b[0m\u001b[0;34m\u001b[0m\u001b[0m\n\u001b[1;32m    218\u001b[0m \u001b[0;34m\u001b[0m\u001b[0m\n",
            "\u001b[0;32m/usr/local/lib/python3.10/dist-packages/tensorflow/python/eager/polymorphic_function/atomic_function.py\u001b[0m in \u001b[0;36mcall_flat\u001b[0;34m(self, *args)\u001b[0m\n\u001b[1;32m    249\u001b[0m         \u001b[0;32mwith\u001b[0m \u001b[0mrecord\u001b[0m\u001b[0;34m.\u001b[0m\u001b[0mstop_recording\u001b[0m\u001b[0;34m(\u001b[0m\u001b[0;34m)\u001b[0m\u001b[0;34m:\u001b[0m\u001b[0;34m\u001b[0m\u001b[0;34m\u001b[0m\u001b[0m\n\u001b[1;32m    250\u001b[0m           \u001b[0;32mif\u001b[0m \u001b[0mself\u001b[0m\u001b[0;34m.\u001b[0m\u001b[0m_bound_context\u001b[0m\u001b[0;34m.\u001b[0m\u001b[0mexecuting_eagerly\u001b[0m\u001b[0;34m(\u001b[0m\u001b[0;34m)\u001b[0m\u001b[0;34m:\u001b[0m\u001b[0;34m\u001b[0m\u001b[0;34m\u001b[0m\u001b[0m\n\u001b[0;32m--> 251\u001b[0;31m             outputs = self._bound_context.call_function(\n\u001b[0m\u001b[1;32m    252\u001b[0m                 \u001b[0mself\u001b[0m\u001b[0;34m.\u001b[0m\u001b[0mname\u001b[0m\u001b[0;34m,\u001b[0m\u001b[0;34m\u001b[0m\u001b[0;34m\u001b[0m\u001b[0m\n\u001b[1;32m    253\u001b[0m                 \u001b[0mlist\u001b[0m\u001b[0;34m(\u001b[0m\u001b[0margs\u001b[0m\u001b[0;34m)\u001b[0m\u001b[0;34m,\u001b[0m\u001b[0;34m\u001b[0m\u001b[0;34m\u001b[0m\u001b[0m\n",
            "\u001b[0;32m/usr/local/lib/python3.10/dist-packages/tensorflow/python/eager/context.py\u001b[0m in \u001b[0;36mcall_function\u001b[0;34m(self, name, tensor_inputs, num_outputs)\u001b[0m\n\u001b[1;32m   1550\u001b[0m     \u001b[0mcancellation_context\u001b[0m \u001b[0;34m=\u001b[0m \u001b[0mcancellation\u001b[0m\u001b[0;34m.\u001b[0m\u001b[0mcontext\u001b[0m\u001b[0;34m(\u001b[0m\u001b[0;34m)\u001b[0m\u001b[0;34m\u001b[0m\u001b[0;34m\u001b[0m\u001b[0m\n\u001b[1;32m   1551\u001b[0m     \u001b[0;32mif\u001b[0m \u001b[0mcancellation_context\u001b[0m \u001b[0;32mis\u001b[0m \u001b[0;32mNone\u001b[0m\u001b[0;34m:\u001b[0m\u001b[0;34m\u001b[0m\u001b[0;34m\u001b[0m\u001b[0m\n\u001b[0;32m-> 1552\u001b[0;31m       outputs = execute.execute(\n\u001b[0m\u001b[1;32m   1553\u001b[0m           \u001b[0mname\u001b[0m\u001b[0;34m.\u001b[0m\u001b[0mdecode\u001b[0m\u001b[0;34m(\u001b[0m\u001b[0;34m\"utf-8\"\u001b[0m\u001b[0;34m)\u001b[0m\u001b[0;34m,\u001b[0m\u001b[0;34m\u001b[0m\u001b[0;34m\u001b[0m\u001b[0m\n\u001b[1;32m   1554\u001b[0m           \u001b[0mnum_outputs\u001b[0m\u001b[0;34m=\u001b[0m\u001b[0mnum_outputs\u001b[0m\u001b[0;34m,\u001b[0m\u001b[0;34m\u001b[0m\u001b[0;34m\u001b[0m\u001b[0m\n",
            "\u001b[0;32m/usr/local/lib/python3.10/dist-packages/tensorflow/python/eager/execute.py\u001b[0m in \u001b[0;36mquick_execute\u001b[0;34m(op_name, num_outputs, inputs, attrs, ctx, name)\u001b[0m\n\u001b[1;32m     51\u001b[0m   \u001b[0;32mtry\u001b[0m\u001b[0;34m:\u001b[0m\u001b[0;34m\u001b[0m\u001b[0;34m\u001b[0m\u001b[0m\n\u001b[1;32m     52\u001b[0m     \u001b[0mctx\u001b[0m\u001b[0;34m.\u001b[0m\u001b[0mensure_initialized\u001b[0m\u001b[0;34m(\u001b[0m\u001b[0;34m)\u001b[0m\u001b[0;34m\u001b[0m\u001b[0;34m\u001b[0m\u001b[0m\n\u001b[0;32m---> 53\u001b[0;31m     tensors = pywrap_tfe.TFE_Py_Execute(ctx._handle, device_name, op_name,\n\u001b[0m\u001b[1;32m     54\u001b[0m                                         inputs, attrs, num_outputs)\n\u001b[1;32m     55\u001b[0m   \u001b[0;32mexcept\u001b[0m \u001b[0mcore\u001b[0m\u001b[0;34m.\u001b[0m\u001b[0m_NotOkStatusException\u001b[0m \u001b[0;32mas\u001b[0m \u001b[0me\u001b[0m\u001b[0;34m:\u001b[0m\u001b[0;34m\u001b[0m\u001b[0;34m\u001b[0m\u001b[0m\n",
            "\u001b[0;31mKeyboardInterrupt\u001b[0m: "
          ]
        }
      ]
    },
    {
      "cell_type": "markdown",
      "source": [
        "#### Using checkpoints\n",
        "\n",
        "The following code will restore the last checkpoint saved into the checkpoint directory."
      ],
      "metadata": {
        "id": "NjA5k42n7glO"
      }
    },
    {
      "cell_type": "code",
      "source": [
        "checkpoint.restore(tf.train.latest_checkpoint(checkpoint_dir))"
      ],
      "metadata": {
        "id": "mXdAFlN_pZ90"
      },
      "execution_count": null,
      "outputs": []
    },
    {
      "cell_type": "markdown",
      "source": [
        "#### Display saved images\n",
        "\n",
        "We can display the saved images for any of the epochs using the `IPython.display.Image` library to open the image and display it in the notebook."
      ],
      "metadata": {
        "id": "X-J2sxi3peDC"
      }
    },
    {
      "cell_type": "code",
      "source": [
        "from IPython.display import Image\n",
        "\n",
        "def display_image_at_epoch(epoch_no):\n",
        "  return Image(filename='image_at_epoch_{:04d}.png'.format(epoch_no))"
      ],
      "metadata": {
        "id": "AMmfVFMZphS2"
      },
      "execution_count": null,
      "outputs": []
    },
    {
      "cell_type": "markdown",
      "source": [
        "For example, we can display the sample image for the final epoch using this function."
      ],
      "metadata": {
        "id": "8v8Ff2fw8TP8"
      }
    },
    {
      "cell_type": "code",
      "source": [
        "display_image_at_epoch(EPOCHS)"
      ],
      "metadata": {
        "id": "CvKKUkA-pv_v"
      },
      "execution_count": null,
      "outputs": []
    },
    {
      "cell_type": "markdown",
      "source": [
        "#### Generate an animated GIF\n",
        "\n",
        "The `imageio` library can be used to generate an animated GIF using the images saved during training."
      ],
      "metadata": {
        "id": "HfHXtHtFp7SA"
      }
    },
    {
      "cell_type": "code",
      "source": [
        "import glob\n",
        "import imageio\n",
        "\n",
        "anim_file = 'gan_anim.gif'\n",
        "\n",
        "with imageio.get_writer(anim_file, mode='I') as writer:\n",
        "  filenames = glob.glob('image*.png')\n",
        "  filenames = sorted(filenames)\n",
        "  for filename in filenames:\n",
        "    image = imageio.imread(filename)\n",
        "    writer.append_data(image)\n",
        "  image = imageio.imread(filename)\n",
        "  writer.append_data(image)"
      ],
      "metadata": {
        "id": "3OZc_MkJp4Ai"
      },
      "execution_count": null,
      "outputs": []
    },
    {
      "cell_type": "markdown",
      "source": [
        "Finally, we can display the animated GIF and see how the generator learned to produce increasingly convincing images of handdrawn digits during the training."
      ],
      "metadata": {
        "id": "XcxFuLNj8zu7"
      }
    },
    {
      "cell_type": "code",
      "source": [
        "Image(open(anim_file, 'rb').read())"
      ],
      "metadata": {
        "id": "5JmPhorVqbxt"
      },
      "execution_count": null,
      "outputs": []
    },
    {
      "cell_type": "markdown",
      "source": [
        "## Summary\n",
        "\n",
        "This notebook has shown how we can construct a Deep Convolutional Generative Adversarial Network (DCGAN) and train it on the MNIST dataset of hadndrawn digits.\n",
        "\n",
        "This notebook shows how the design of the generator and discriminator networks are similar other types of convolutional networks, but the training loop is quite different due to the need to provide the discriminator with real and fake (generated) images and for the loss of the generator to be defined based on the performance of the discriminator.\n",
        "\n",
        "The most difficult aspect of using GANs is balancing the training of the generator and discriminator and monitoring metrics such as loss only provides a crude measure of how well the training is progressing because the loss of the generator and discriminator will not converge towards 0, due to the adversarial nature of the training."
      ],
      "metadata": {
        "id": "rHTDXOkW9U2y"
      }
    },
    {
      "cell_type": "markdown",
      "source": [
        "### Ungraded Exercises\n",
        "\n",
        "1. Experiment with the constants that control the training of the GAN to see how it responds to be trained for longer. What impact does increasing the values for `DATASET_SIZE` and `EPOCHS` have on the training?\n",
        "2. Experiment with the architecture of the generator and discriminator to see how this can improve performance.\n",
        "3. Experiment with the dimensionality of the noise vectors used as input to the generator. What impact do smaller and larger values of `NOISE_DIM` have on the ability of the GAN to train the generator?"
      ],
      "metadata": {
        "id": "8G2C_tOrJVcW"
      }
    },
    {
      "cell_type": "markdown",
      "source": [
        "<a id=\"graded_exercise\"></a>\n",
        "\n",
        "### Graded Exercise\n",
        "\n",
        "Use this notebook as a starting point for building a GAN trained on another dataset.\n",
        "\n",
        "You may want to try training on another small dataset, e.g., [Fashion MNIST](https://github.com/zalandoresearch/fashion-mnist) or [cifar10](https://www.cs.toronto.edu/~kriz/cifar.html), which can be easily accessed via the [Keras Datasets API](https://keras.io/api/datasets/).\n",
        "\n",
        "Even though these datasets are still relatively small, you will likely need to experiment with deeper architectures for your generator and discriminator to handle these datasets because they require building more sophisticated features.\n",
        "\n",
        "In addition, you might consider experimenting increasing the dimensionalty of the noise vectors generated as input to the generator, especially if you believe that the GAN is having difficulty organising the latent space.\n",
        "\n",
        "**Submission:** Download your notebook as a Jupyter notebook using `File > Download > Download .ipynb` and upload this to Brightspace together with an animated GIF (if you've generated one) for your chosen dataset."
      ],
      "metadata": {
        "id": "yD94cHMKJS06"
      }
    }
  ]
}
