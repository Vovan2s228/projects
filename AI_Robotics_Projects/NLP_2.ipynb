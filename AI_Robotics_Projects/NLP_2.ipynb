{
 "cells": [
  {
   "cell_type": "markdown",
   "id": "46258316",
   "metadata": {
    "id": "46258316"
   },
   "source": [
    "# Natural Language Processing Assignment 2B: The Notebook\n",
    "\n",
    "This is the notebook for the second hand-in assignment for Natural Language Processing. The notebook counts for 65% of the total assignment, the total assignment counts towards 15% of the final grade.\n",
    "\n",
    "In this notebook, you will be working on Sentiment Classification over IMDB movie reviews! As usual, you can progress through the notebook from top to bottom. The assignment broadly consists of three parts:\n",
    "\n",
    "1. Data preparation: where you will learn about the task, and prepare the data to be consumed by your PyTorch model.\n",
    "2. Model training: where you define the appropriate RNN model and training specifics to train the classifier.\n",
    "3. Results analysis: where you will inspect the model's learned word embeddings."
   ]
  },
  {
   "cell_type": "markdown",
   "id": "bd823cea",
   "metadata": {
    "id": "bd823cea"
   },
   "source": [
    "## Part 4 (15 points): Data preparation\n",
    "\n",
    "In this part you will prepare the data from the IMDB 50K dataset, so that it can be processed by a PyTorch LSTM-based recurrent model.\n",
    "\n",
    "First, some usual imports."
   ]
  },
  {
   "cell_type": "code",
   "execution_count": 1,
   "id": "2be6cb8e",
   "metadata": {
    "colab": {
     "base_uri": "https://localhost:8080/"
    },
    "id": "2be6cb8e",
    "outputId": "e26d4bff-7e90-42ce-d0fa-983412835558"
   },
   "outputs": [
    {
     "name": "stderr",
     "output_type": "stream",
     "text": [
      "[nltk_data] Downloading package stopwords to\n",
      "[nltk_data]     C:\\Users\\ozani\\AppData\\Roaming\\nltk_data...\n",
      "[nltk_data]   Package stopwords is already up-to-date!\n"
     ]
    }
   ],
   "source": [
    "import csv\n",
    "import re\n",
    "from collections import Counter\n",
    "import torch\n",
    "from torch import Tensor, FloatTensor, LongTensor\n",
    "from typing import Tuple, List, Callable, Optional\n",
    "import nltk\n",
    "nltk.download('stopwords')\n",
    "from nltk.corpus import stopwords"
   ]
  },
  {
   "cell_type": "markdown",
   "id": "3af9bf79",
   "metadata": {
    "id": "3af9bf79"
   },
   "source": [
    "### The Task: Movie Review Classification\n",
    "\n",
    "The [IMDB 50k dataset](https://ai.stanford.edu/~amaas/data/sentiment/) contains 50000 \"highly polar\" movie reviews, that come together with a label for their sentiment ('positive' or 'negative'). Let's load in the data and inspect the first entry:"
   ]
  },
  {
   "cell_type": "code",
   "execution_count": 2,
   "id": "21143ba5",
   "metadata": {
    "colab": {
     "base_uri": "https://localhost:8080/",
     "height": 145
    },
    "id": "21143ba5",
    "outputId": "d7c840da-e217-49cb-d076-55a0c9913ee6"
   },
   "outputs": [
    {
     "data": {
      "text/plain": [
       "\"One of the other reviewers has mentioned that after watching just 1 Oz episode you'll be hooked. They are right, as this is exactly what happened with me.<br /><br />The first thing that struck me about Oz was its brutality and unflinching scenes of violence, which set in right from the word GO. Trust me, this is not a show for the faint hearted or timid. This show pulls no punches with regards to drugs, sex or violence. Its is hardcore, in the classic use of the word.<br /><br />It is called OZ as that is the nickname given to the Oswald Maximum Security State Penitentary. It focuses mainly on Emerald City, an experimental section of the prison where all the cells have glass fronts and face inwards, so privacy is not high on the agenda. Em City is home to many..Aryans, Muslims, gangstas, Latinos, Christians, Italians, Irish and more....so scuffles, death stares, dodgy dealings and shady agreements are never far away.<br /><br />I would say the main appeal of the show is due to the fact that it goes where other shows wouldn't dare. Forget pretty pictures painted for mainstream audiences, forget charm, forget romance...OZ doesn't mess around. The first episode I ever saw struck me as so nasty it was surreal, I couldn't say I was ready for it, but as I watched more, I developed a taste for Oz, and got accustomed to the high levels of graphic violence. Not just violence, but injustice (crooked guards who'll be sold out for a nickel, inmates who'll kill on order and get away with it, well mannered, middle class inmates being turned into prison bitches due to their lack of street skills or prison experience) Watching Oz, you may become comfortable with what is uncomfortable viewing....thats if you can get in touch with your darker side.\""
      ]
     },
     "metadata": {},
     "output_type": "display_data"
    },
    {
     "data": {
      "text/plain": [
       "'positive'"
      ]
     },
     "metadata": {},
     "output_type": "display_data"
    }
   ],
   "source": [
    "with open('./IMDB Dataset.csv', newline='', encoding='utf-8') as csvfile:\n",
    "    review_reader = csv.reader(csvfile, delimiter=',', quotechar='\"')\n",
    "    reviews, sentiments = zip(*[r for r in review_reader][1:])\n",
    "reviews = [r for r in reviews]\n",
    "sentiments = list(sentiments)\n",
    "display(reviews[0])\n",
    "display(sentiments[0])"
   ]
  },
  {
   "cell_type": "markdown",
   "id": "eefb2ec8",
   "metadata": {
    "id": "eefb2ec8"
   },
   "source": [
    "### Part 4.1 (2 point):\n",
    "\n",
    "You can see that the data could contain rather long sequences! We will deviate from the exercises in that we will make use of an internal `torch.nn.Embedding` layer to hold and update word embeddings. This layer will hold a single embedding for each word, so for the sake of fast training this layer shouldn't get too big. Therefore, let's figure out how many words our (so far unprocessed) dataset contains. To warm up, finish the below implementation to figure out how many unique words our data contains."
   ]
  },
  {
   "cell_type": "code",
   "execution_count": 3,
   "id": "92efe3ff",
   "metadata": {
    "colab": {
     "base_uri": "https://localhost:8080/",
     "height": 35
    },
    "id": "92efe3ff",
    "outputId": "61e4e866-8ea6-42bc-ca92-d51b35fb7bdc"
   },
   "outputs": [
    {
     "data": {
      "text/plain": [
       "438729"
      ]
     },
     "metadata": {},
     "output_type": "display_data"
    }
   ],
   "source": [
    "# 4.1 Solution:\n",
    "\n",
    "def count_vocab(texts: List[str]) -> int:\n",
    "    all_words = []\n",
    "    for review in texts:\n",
    "        words = review.split()\n",
    "        all_words.extend(words)\n",
    "    return len(set(all_words))\n",
    "\n",
    "display(count_vocab(reviews))"
   ]
  },
  {
   "cell_type": "markdown",
   "id": "498532c7",
   "metadata": {
    "id": "498532c7"
   },
   "source": [
    "### Part 4.2 (5 points):\n",
    "\n",
    "Yikes! That's way too many words, so we will definitely need to do some preprocessing. But honestly, even after preprocessing we will still have too many words to cover in our model, unless your computer has a very large working memory ;-)\n",
    "\n",
    "So our strategy will be twofold: first, we want to preprocess a little bit by lowercasing everything and removing unwanted characters. Then, we want to keep only a fixed number of words for each review. In anticipation of the fact that our model's embedding layer will expect number representations of words, we will have to extract a vocabulary of words that we will represent as integers.\n",
    "\n",
    "In the code below, the first part has already been implemented: the function `preprocess_string` uses regular expressions to remove unwanted characters, `preprocess_text` lowercases a review text and preprocesses each word.\n",
    "\n",
    "The bottom part was also implemented: the `tensorize_sentences` function will take a list of (preprocessed!) reviews, and a dictionary that maps the words in our vocabulary to integer values for our PyTorch model.\n",
    "\n",
    "Your job is to complete the implementation of `tokenize_data`. As you can see from the type information, it expects a list of strings (the original reviews), and outputs a pair: a list of processed reviews and the vocabulary map. The processed reviews are already given, but you need to figure out how to create the `word2int` dictionary mapping. It must adhere to the following specifications:\n",
    "\n",
    "1. It can't contain any stopwords,\n",
    "2. It must contain exactly 5000 words,\n",
    "3. It must map to the numbers 1-5000; the number 0 will be reserved for padding of the dataset later on."
   ]
  },
  {
   "cell_type": "code",
   "execution_count": 4,
   "id": "f5b259cc",
   "metadata": {
    "id": "f5b259cc"
   },
   "outputs": [],
   "source": [
    "# 4.2 Solution:\n",
    "\n",
    "def preprocess_string(s: str) -> str:\n",
    "    # Remove all non-word characters (everything except numbers and letters)\n",
    "    s = re.sub(r\"[^\\w\\s]\", '', s)\n",
    "    # Replace all runs of whitespaces with no space\n",
    "    s = re.sub(r\"\\s+\", '', s)\n",
    "    # Replace digits with no space\n",
    "    s = re.sub(r\"\\d\", '', s)\n",
    "    return s\n",
    "\n",
    "def preprocess_text(text: str) -> List[str]:\n",
    "    return [preprocess_string(word) for word in text.lower().split()]\n",
    "\n",
    "def tokenize_data(all_texts: List[str]) -> Tuple[List[List[str]], dict[str, int]]:\n",
    "    processed_reviews = [preprocess_text(s) for s in all_texts]\n",
    "    stop_words = set(stopwords.words('english'))\n",
    "    reviews_without_stopwords = []\n",
    "    for review in processed_reviews:\n",
    "        reviews_without_stopwords.append([word for word in review if word not in stop_words])\n",
    "    word_counts = Counter([word for review in reviews_without_stopwords for word in review])\n",
    "    most_common_words = word_counts.most_common(5000)\n",
    "    word2int = {word: i for i, (word, _) in enumerate(most_common_words)}\n",
    "    return processed_reviews, word2int\n",
    "\n",
    "def tensorize_sentences(preprocessed_texts: List[List[str]], word_map: dict[str, int]) -> List[Tensor]:\n",
    "    return [torch.tensor([word_map[w] for w in s if w in word_map]) for s in preprocessed_texts]\n",
    "\n",
    "def tensorize_sentiments(sentiments: List[str]) -> Tensor:\n",
    "    return [torch.tensor(1.) if sentiment == 'positive' else torch.tensor(0.) for sentiment in sentiments]"
   ]
  },
  {
   "cell_type": "markdown",
   "id": "9ef67cc8",
   "metadata": {
    "id": "9ef67cc8"
   },
   "source": [
    "Verify your implementation above by running the code below to preprocess and tokenize everything. Then run the code below that to inspect the result for the first review."
   ]
  },
  {
   "cell_type": "code",
   "execution_count": 5,
   "id": "529e916b",
   "metadata": {
    "id": "529e916b"
   },
   "outputs": [],
   "source": [
    "processed_reviews, word2int = tokenize_data(reviews)\n",
    "tokenized_reviews = tensorize_sentences(processed_reviews, word2int)\n",
    "sentiment_tensors = tensorize_sentiments(sentiments)"
   ]
  },
  {
   "cell_type": "code",
   "execution_count": 6,
   "id": "13b058d6",
   "metadata": {
    "colab": {
     "base_uri": "https://localhost:8080/",
     "height": 344
    },
    "id": "13b058d6",
    "outputId": "7804bddd-00e9-454a-bdc6-ab3fff7e9aa8"
   },
   "outputs": [
    {
     "data": {
      "text/plain": [
       "\"One of the other reviewers has mentioned that after watching just 1 Oz episode you'll be hooked. They are right, as this is exactly what happened with me.<br /><br />The first thing that struck me about Oz was its brutality and unflinching scenes of violence, which set in right from the word GO. Trust me, this is not a show for the faint hearted or timid. This show pulls no punches with regards to drugs, sex or violence. Its is hardcore, in the classic use of the word.<br /><br />It is called OZ as that is the nickname given to the Oswald Maximum Security State Penitentary. It focuses mainly on Emerald City, an experimental section of the prison where all the cells have glass fronts and face inwards, so privacy is not high on the agenda. Em City is home to many..Aryans, Muslims, gangstas, Latinos, Christians, Italians, Irish and more....so scuffles, death stares, dodgy dealings and shady agreements are never far away.<br /><br />I would say the main appeal of the show is due to the fact that it goes where other shows wouldn't dare. Forget pretty pictures painted for mainstream audiences, forget charm, forget romance...OZ doesn't mess around. The first episode I ever saw struck me as so nasty it was surreal, I couldn't say I was ready for it, but as I watched more, I developed a taste for Oz, and got accustomed to the high levels of graphic violence. Not just violence, but injustice (crooked guards who'll be sold out for a nickel, inmates who'll kill on order and get away with it, well mannered, middle class inmates being turned into prison bitches due to their lack of street skills or prison experience) Watching Oz, you may become comfortable with what is uncomfortable viewing....thats if you can get in touch with your darker side.\""
      ]
     },
     "metadata": {},
     "output_type": "display_data"
    },
    {
     "data": {
      "text/plain": [
       "tensor([   4, 1802,  937,   57,    1, 3136,  283,  350, 3030,  108,  484,  474,\n",
       "        1997,    0,   20,   58, 3094, 3136,   51,  466,  180,  108,  551,   53,\n",
       "        1571,   42,   42, 2358, 1337,  275,  466, 3240,  245,  235,    0,  358,\n",
       "        3136,  234, 2392,  935, 2486, 1240,  420, 4537, 2369, 1076, 2831,  299,\n",
       "         213, 4904, 3535,  420,  239, 4974, 2315,  224,   35,  127,    0,    8,\n",
       "          47,  168, 1170,   42,  549,   93,  161,  156,  433, 2846,  699,   85,\n",
       "        1138, 4170, 2352,  970,  699, 1278,  699,   59,  854,   88,   20,  283,\n",
       "          44,  105, 3094, 1439, 2072,  287,   47, 1416,  176, 1330, 1117, 3136,\n",
       "          90,  213, 1949, 1958,  466,  466, 4784, 2814,  379,  505,   15,  142,\n",
       "          14,  633,  696,  541, 1076,  549,  434,  808, 1857, 1076,  442,   57,\n",
       "        3136,  101,  302, 3608, 3114,   15, 1080, 3842,  387])"
      ]
     },
     "metadata": {},
     "output_type": "display_data"
    },
    {
     "data": {
      "text/plain": [
       "tensor(1.)"
      ]
     },
     "metadata": {},
     "output_type": "display_data"
    }
   ],
   "source": [
    "display(reviews[0])\n",
    "display(tokenized_reviews[0])\n",
    "display(sentiment_tensors[0])"
   ]
  },
  {
   "cell_type": "markdown",
   "id": "d0a76b81",
   "metadata": {
    "id": "d0a76b81"
   },
   "source": [
    "### Part 4.3 (8 points):\n",
    "\n",
    "As usual, we will have to split up our data and wrap it inside `Dataset`s and `DataLoader`s. While the splitting function and the `ReviewDataset` implementation are already given, we still need to implement the padding function, that is going to make sure that all sequences are padded before being passed to the model.\n",
    "\n",
    "However, we need to be *very careful* here. Remember how an RNN performs sequence classification by only processing the *last* hidden state of a sequence? Now imagine that we were to pad sequence by adding $0$s at the end of a sequence: then the model would encounter a bunch of empty values in calculating the final hidden state, and wouldn't exactly learn much. So when implementing the `pad_batch` function below it is important that the padding happens on the left of the sequences.\n",
    "\n",
    "That is, the output of the padding should be a matrix with dimensions `(seq_len, batch_size)`, so with `seq_len` rows (the length of the longest sequence in the batch), and `batch_size` columns (the number of sequences in one batch). Visually this means that one item in the final `DataLoader` would look something like\n",
    "\n",
    "```\n",
    "            tensor([[   0,    0,    0,  ...,    0,    0,    0],\n",
    "                    [   0,    0,    0,  ...,    0,    0,    0],\n",
    "                    [   0,    0,    0,  ...,    0,    0,    0],\n",
    "                    ...,\n",
    "                    [1694,    4,  394,  ...,   48,   12,  189],\n",
    "                    [4568, 1564,   82,  ...,   45,    3,   69],\n",
    "                    [  37,   10, 2348,  ...,   24, 1572,  222]])\n",
    "```\n",
    "\n",
    "You are free to implement the function `my_sequence_pad` as you see fit. You could of course use the built-in PyTorch function `pad_sequence`, but this adds the trailing 0's at the end of a sequence, so you'd have to hack around that :-)\n"
   ]
  },
  {
   "cell_type": "code",
   "execution_count": 7,
   "id": "5497bb16",
   "metadata": {
    "id": "5497bb16"
   },
   "outputs": [],
   "source": [
    "# 4.3 Solution:\n",
    "from torch.utils.data import Dataset, DataLoader\n",
    "import random\n",
    "\n",
    "def split_data(data, val_cutoff=0.8, test_cutoff=0.9):\n",
    "    random.Random(42).shuffle(data)\n",
    "    train = data[:int(val_cutoff*len(data))]\n",
    "    val = data[int(val_cutoff*len(data)):int(test_cutoff*len(data))]\n",
    "    test = data[int(test_cutoff*len(data)):]\n",
    "    return train, val, test\n",
    "\n",
    "\n",
    "class ReviewDataset(Dataset):\n",
    "    def __init__(self, X: List[torch.LongTensor], Y: List[torch.FloatTensor]) -> None:\n",
    "        super(ReviewDataset, self).__init__()\n",
    "        self.X = X\n",
    "        self.Y = Y\n",
    "\n",
    "    def __len__(self) -> int:\n",
    "        return len(self.X)\n",
    "\n",
    "    def __getitem__(self, idx: int) -> Tuple[torch.LongTensor, torch.FloatTensor]:\n",
    "        return self.X[idx], self.Y[idx]\n",
    "\n",
    "\n",
    "def my_sequence_pad(sequences: List[LongTensor]) -> LongTensor:\n",
    "    biggest_sequence_length = max([len(sequence) for sequence in sequences])\n",
    "    padded_sequences = torch.zeros(len(sequences), biggest_sequence_length, dtype=torch.long)\n",
    "    for i, sequence in enumerate(sequences):\n",
    "        padded_sequences[i, -len(sequence):] = sequence\n",
    "    return padded_sequences\n",
    "\n",
    "\n",
    "def pad_batch(batch: List[Tuple[LongTensor, FloatTensor]]) -> Tuple[LongTensor, FloatTensor]:\n",
    "    return my_sequence_pad([sample[0] for sample in batch]), torch.stack([sample[1] for sample in batch])\n"
   ]
  },
  {
   "cell_type": "markdown",
   "id": "75186bbc",
   "metadata": {
    "id": "75186bbc"
   },
   "source": [
    "Again, you can verify that your implementation is correct by first running the cell directly below, and then the testing code below it."
   ]
  },
  {
   "cell_type": "code",
   "execution_count": 8,
   "id": "3e6f937a",
   "metadata": {
    "id": "3e6f937a"
   },
   "outputs": [],
   "source": [
    "tokenized_reviews_train, tokenized_reviews_val, tokenized_reviews_test = split_data(tokenized_reviews, val_cutoff=0.8, test_cutoff=0.9)\n",
    "sentiment_train, sentiment_val, sentiment_test = split_data(sentiment_tensors, val_cutoff=0.8, test_cutoff=0.9)\n",
    "\n",
    "tok_train_dataset = ReviewDataset(tokenized_reviews_train, sentiment_train)\n",
    "tok_train_dataloader = DataLoader(tok_train_dataset, collate_fn=pad_batch, shuffle=True, batch_size=32)\n",
    "\n",
    "tok_val_dataset = ReviewDataset(tokenized_reviews_val, sentiment_val)\n",
    "tok_val_dataloader = DataLoader(tok_val_dataset, collate_fn=pad_batch, shuffle=False, batch_size=32)\n",
    "\n",
    "tok_test_dataset = ReviewDataset(tokenized_reviews_test, sentiment_test)\n",
    "tok_test_dataloader = DataLoader(tok_test_dataset, collate_fn=pad_batch, shuffle=False, batch_size=32)"
   ]
  },
  {
   "cell_type": "code",
   "execution_count": 9,
   "id": "27b66630",
   "metadata": {
    "colab": {
     "base_uri": "https://localhost:8080/",
     "height": 199
    },
    "id": "27b66630",
    "outputId": "49873521-4475-4937-d97d-40117e3abab6"
   },
   "outputs": [
    {
     "data": {
      "text/plain": [
       "torch.Size([32, 432])"
      ]
     },
     "metadata": {},
     "output_type": "display_data"
    },
    {
     "data": {
      "text/plain": [
       "tensor([[   0,    0,    0,  ...,   11,   45,   25],\n",
       "        [   0,    0,    0,  ...,   35,  662, 3943],\n",
       "        [   0,    0,    0,  ..., 1901, 2028, 1510],\n",
       "        ...,\n",
       "        [   0,    0,    0,  ...,   17,  219, 4087],\n",
       "        [   0,    0,    0,  ...,   27,  983,    9],\n",
       "        [   0,    0,    0,  ...,   24,   13,  178]])"
      ]
     },
     "metadata": {},
     "output_type": "display_data"
    },
    {
     "data": {
      "text/plain": [
       "tensor([0., 0., 0., 0., 0., 0., 0., 0., 0., 1., 1., 1., 0., 0., 0., 0., 1., 0.,\n",
       "        0., 1., 0., 1., 1., 1., 0., 1., 1., 1., 0., 0., 0., 0.])"
      ]
     },
     "metadata": {},
     "output_type": "display_data"
    }
   ],
   "source": [
    "# obtain one batch of training data\n",
    "for sx, sy in tok_train_dataloader:\n",
    "    display(sx.shape)\n",
    "    display(sx)\n",
    "    display(sy)\n",
    "    break"
   ]
  },
  {
   "cell_type": "markdown",
   "id": "9a5bed8d",
   "metadata": {
    "id": "9a5bed8d"
   },
   "source": [
    "## Part 5 (30 points): Model training\n",
    "\n",
    "So far so good! You are now ready to define the model and the training loop. In this part you will implement the model, figure out the appropriate output activation and loss function, and see the model in action!"
   ]
  },
  {
   "cell_type": "markdown",
   "id": "c988594e",
   "metadata": {
    "id": "c988594e"
   },
   "source": [
    "### Part 5.1 (14 points): Defining the model\n",
    "\n",
    "Let's start with the model. Part of the implementation is already given: the `embedding` will hold the word embeddings, and as such will map from the `input_dim` (the vocabulary size) to the `embedding_dim`.\n",
    "\n",
    "After that, we want to process the embedded sequence with an LSTM layer, and use a Linear layer to process the final hidden state of the sequence. Finally, the output activation is applied to the output.\n",
    "\n",
    "Implement this model by finishing the code below. Note that the [LSTM layer](https://pytorch.org/docs/stable/generated/torch.nn.LSTM.html) will automatically take care of initializing the hidden state vector of the 0th timestep of a sequence, so you don't have to do that yourself."
   ]
  },
  {
   "cell_type": "code",
   "execution_count": 10,
   "id": "92a1c0c3",
   "metadata": {
    "id": "92a1c0c3"
   },
   "outputs": [],
   "source": [
    "# 5.1 Solution:\n",
    "\n",
    "class LSTMSequenceClassifier(torch.nn.Module):\n",
    "\n",
    "    def __init__(self, input_dim: int, embedding_dim: int, hidden_dim: int, output_dim: int, output_activation):\n",
    "        super(LSTMSequenceClassifier, self).__init__()\n",
    "\n",
    "        self.embedding = torch.nn.Embedding(input_dim, embedding_dim)\n",
    "\n",
    "        self.rnn = torch.nn.LSTM(embedding_dim, hidden_dim, batch_first=True)\n",
    "        self.h_to_y = torch.nn.Linear(hidden_dim, output_dim)\n",
    "        self.output_activation = output_activation\n",
    "\n",
    "    def forward(self, text):\n",
    "        # text dim: [sentence length, batch size]\n",
    "        embedded = self.embedding(text)\n",
    "        # embedded dim: [sentence length, batch size, embedding dim]\n",
    "        _, (h, _) = self.rnn(embedded)\n",
    "        output = self.h_to_y(h[-1])\n",
    "        output = self.output_activation(output)\n",
    "        return output"
   ]
  },
  {
   "cell_type": "markdown",
   "id": "86476a9e",
   "metadata": {
    "id": "86476a9e"
   },
   "source": [
    "Great job! As a reward, here is some free code: it implements the training and evaluation loops, for computing the loss over the training and validation sets, and updating the parameters when training."
   ]
  },
  {
   "cell_type": "code",
   "execution_count": 11,
   "id": "aedf4951",
   "metadata": {
    "id": "aedf4951"
   },
   "outputs": [],
   "source": [
    "def train_batch(network: torch.nn.Module,\n",
    "                X_batch: LongTensor,\n",
    "                Y_batch: FloatTensor,\n",
    "                loss_fn: Callable[[FloatTensor, FloatTensor], FloatTensor],\n",
    "                optimizer: torch.optim.Optimizer) -> float:\n",
    "    network.train()\n",
    "\n",
    "    prediction_batch = network(X_batch)  # forward pass\n",
    "    batch_loss = loss_fn(prediction_batch.squeeze(), Y_batch)  # loss calculation\n",
    "    batch_loss.backward()  # gradient computation\n",
    "    optimizer.step()  # back-propagation\n",
    "    optimizer.zero_grad()  # gradient reset\n",
    "    return batch_loss.item()\n",
    "\n",
    "\n",
    "def train_epoch(network: torch.nn.Module,\n",
    "                dataloader: DataLoader,\n",
    "                loss_fn: Callable[[FloatTensor, FloatTensor], FloatTensor],\n",
    "                optimizer: torch.optim.Optimizer,\n",
    "                device: str) -> float:\n",
    "\n",
    "    loss = 0.\n",
    "\n",
    "    for i, (x_batch, y_batch) in enumerate(tqdm(dataloader)):\n",
    "        x_batch = x_batch.to(device)  # convert back to your chosen device\n",
    "        y_batch = y_batch.to(device)\n",
    "        loss += train_batch(network=network, X_batch=x_batch, Y_batch=y_batch,\n",
    "                            loss_fn=loss_fn, optimizer=optimizer)\n",
    "    loss /= (i+1) # divide loss by number of batches for consistency\n",
    "\n",
    "    return loss\n",
    "\n",
    "def eval_batch(network: torch.nn.Module,\n",
    "                X_batch: LongTensor,\n",
    "                Y_batch: FloatTensor,\n",
    "                loss_fn: Callable[[FloatTensor, FloatTensor], FloatTensor]) -> float:\n",
    "    network.eval()\n",
    "\n",
    "    with torch.no_grad():\n",
    "        prediction_batch = network(X_batch)  # forward pass\n",
    "        batch_loss = loss_fn(prediction_batch.squeeze(), Y_batch)  # loss calculation\n",
    "\n",
    "    return batch_loss.item()\n",
    "\n",
    "def eval_epoch(network: torch.nn.Module,\n",
    "                # a list of data points x\n",
    "                dataloader: DataLoader,\n",
    "                loss_fn: Callable[[FloatTensor, FloatTensor], FloatTensor],\n",
    "                device: str) -> float:\n",
    "\n",
    "    loss = 0.\n",
    "\n",
    "    for i, (x_batch, y_batch) in enumerate(dataloader):\n",
    "        x_batch = x_batch.to(device)\n",
    "        y_batch = y_batch.to(device)\n",
    "        loss += eval_batch(network=network, X_batch=x_batch, Y_batch=y_batch, loss_fn=loss_fn)\n",
    "    loss /= (i+1)\n",
    "\n",
    "    return loss"
   ]
  },
  {
   "cell_type": "markdown",
   "id": "ac2e03d2",
   "metadata": {
    "id": "ac2e03d2"
   },
   "source": [
    "### Part 5.2 (6 points): Output activation, loss function\n",
    "\n",
    "You are almost ready to start training your model! There are just a few ingredients missing.\n",
    "\n",
    "First of all, instantiate your model below. Make sure that its `input_dim` has the length of the vocabulary, plus an extra dimension for the padding value. You can pick custom dimensions for the word embeddings and the hidden states. Given that the task is binary classification, define the appropriate output dimension and corresponding output activation function, passed as arguments to the model as well.\n",
    "\n",
    "Combine the model with the appropriate loss function."
   ]
  },
  {
   "cell_type": "code",
   "execution_count": 12,
   "id": "3724de72",
   "metadata": {
    "id": "3724de72"
   },
   "outputs": [],
   "source": [
    "# 5.2 Solution:\n",
    "input_dim = len(word2int)\n",
    "hidden_dim = 128\n",
    "embedding_dim = 128\n",
    "output_dim = 1\n",
    "output_activation = torch.nn.Sigmoid()\n",
    "\n",
    "model = LSTMSequenceClassifier(input_dim, embedding_dim, hidden_dim, output_dim, output_activation)\n",
    "loss_fn = torch.nn.BCELoss()"
   ]
  },
  {
   "cell_type": "markdown",
   "id": "89105e91",
   "metadata": {
    "id": "89105e91"
   },
   "source": [
    "### Part 5.3 (6 points): Evaluation metric\n",
    "\n",
    "The final thing is to compute the accuracy of the model: the number of correct classifications out the total number of items. Finish the implementation below to define an appropriate way of calculating accuracy, given your choices above."
   ]
  },
  {
   "cell_type": "code",
   "execution_count": 13,
   "id": "1f910f28",
   "metadata": {
    "id": "1f910f28"
   },
   "outputs": [],
   "source": [
    "# 5.3 Solution:\n",
    "\n",
    "def measure_accuracy(network: torch.nn.Module,\n",
    "                     dataloader: DataLoader,\n",
    "                     device: str) -> float:\n",
    "    \"\"\"\n",
    "        Given a network, a dataloader and a device, iterates over the\n",
    "        dataset and returns the network's accuracy.\n",
    "    \"\"\"\n",
    "    correct = 0\n",
    "    total = 0\n",
    "    for x_batch, y_batch in dataloader:\n",
    "        pred = network(x_batch.to(device))\n",
    "        y_batch = y_batch.to(device)\n",
    "        binary_pred = (pred >= 0.5).int()\n",
    "        local_total = y_batch.shape[0]\n",
    "        local_correct = (binary_pred.squeeze() == y_batch).sum().item()\n",
    "        correct += local_correct\n",
    "        total += local_total\n",
    "    return correct/total"
   ]
  },
  {
   "cell_type": "markdown",
   "id": "bab93929",
   "metadata": {
    "id": "bab93929"
   },
   "source": [
    "### Part 5.4 (4 points): Putting it all together, testing.\n",
    "\n",
    "You are so ready to run your model! Execute the code below to train your model for 5 epochs, and observe the validation accuracy, it should be well over 80%. Use the code after it to plot the training and validation loss, as well as the validation accuracies. Then, add your own code to report the accuracy on the test set."
   ]
  },
  {
   "cell_type": "code",
   "execution_count": 14,
   "id": "155ba919",
   "metadata": {
    "colab": {
     "base_uri": "https://localhost:8080/"
    },
    "id": "155ba919",
    "outputId": "d7b69fa3-b667-4ad6-8e5d-38303718d31b"
   },
   "outputs": [
    {
     "name": "stderr",
     "output_type": "stream",
     "text": [
      "100%|██████████| 1250/1250 [00:06<00:00, 194.10it/s]\n"
     ]
    },
    {
     "name": "stdout",
     "output_type": "stream",
     "text": [
      "Epoch 0\n",
      " Training Loss: 0.4658020391821861\n",
      " Validation Loss: 0.36672516328514004\n",
      " Validation Accuracy: 0.836\n"
     ]
    },
    {
     "name": "stderr",
     "output_type": "stream",
     "text": [
      "100%|██████████| 1250/1250 [00:05<00:00, 211.00it/s]\n"
     ]
    },
    {
     "name": "stdout",
     "output_type": "stream",
     "text": [
      "Epoch 1\n",
      " Training Loss: 0.34667885219454764\n",
      " Validation Loss: 0.3025022332503158\n",
      " Validation Accuracy: 0.8762\n"
     ]
    },
    {
     "name": "stderr",
     "output_type": "stream",
     "text": [
      "100%|██████████| 1250/1250 [00:05<00:00, 211.94it/s]\n"
     ]
    },
    {
     "name": "stdout",
     "output_type": "stream",
     "text": [
      "Epoch 2\n",
      " Training Loss: 0.2672346235722303\n",
      " Validation Loss: 0.29987961485697207\n",
      " Validation Accuracy: 0.8758\n"
     ]
    },
    {
     "name": "stderr",
     "output_type": "stream",
     "text": [
      "100%|██████████| 1250/1250 [00:05<00:00, 209.93it/s]\n"
     ]
    },
    {
     "name": "stdout",
     "output_type": "stream",
     "text": [
      "Epoch 3\n",
      " Training Loss: 0.2295999883979559\n",
      " Validation Loss: 0.28914494257254203\n",
      " Validation Accuracy: 0.8878\n"
     ]
    },
    {
     "name": "stderr",
     "output_type": "stream",
     "text": [
      "100%|██████████| 1250/1250 [00:05<00:00, 211.76it/s]\n"
     ]
    },
    {
     "name": "stdout",
     "output_type": "stream",
     "text": [
      "Epoch 4\n",
      " Training Loss: 0.1930501193255186\n",
      " Validation Loss: 0.29823914995998335\n",
      " Validation Accuracy: 0.8816\n"
     ]
    }
   ],
   "source": [
    "from tqdm import tqdm\n",
    "\n",
    "NUM_EPOCHS = 5\n",
    "\n",
    "train_losses = []\n",
    "val_losses = []\n",
    "val_accuracies = []\n",
    "\n",
    "# you can set the device to 'cuda' if you have a GPU-enabled PyTorch installation,\n",
    "# or to 'mps' if you have an M1 Macbook.\n",
    "device = 'cuda'\n",
    "\n",
    "optimizer = torch.optim.AdamW(model.parameters(),lr=0.001)\n",
    "\n",
    "\n",
    "model.to(device)\n",
    "\n",
    "for t in range(NUM_EPOCHS):\n",
    "    model.train()\n",
    "    train_loss = train_epoch(model, tok_train_dataloader, optimizer=optimizer, loss_fn=loss_fn, device=device)\n",
    "    val_loss = eval_epoch(model, tok_val_dataloader, loss_fn, device=device)\n",
    "    val_acc = measure_accuracy(model, tok_val_dataloader, device=device)\n",
    "\n",
    "    print('Epoch {}'.format(t))\n",
    "    print(' Training Loss: {}'.format(train_loss))\n",
    "    print(' Validation Loss: {}'.format(val_loss))\n",
    "    print(' Validation Accuracy: {}'.format(val_acc))\n",
    "\n",
    "    train_losses.append(train_loss)\n",
    "    val_losses.append(val_loss)\n",
    "    val_accuracies.append(val_acc)"
   ]
  },
  {
   "cell_type": "code",
   "execution_count": 15,
   "id": "8595b482",
   "metadata": {
    "colab": {
     "base_uri": "https://localhost:8080/",
     "height": 430
    },
    "id": "8595b482",
    "outputId": "55e1af6d-b9fc-4a58-858e-b63da2fce45f"
   },
   "outputs": [
    {
     "data": {
      "image/png": "[encoded data removed]",
      "text/plain": [
       "<Figure size 640x480 with 1 Axes>"
      ]
     },
     "metadata": {},
     "output_type": "display_data"
    }
   ],
   "source": [
    "# The code for plotting\n",
    "from matplotlib import pyplot as plt\n",
    "plt.plot(train_losses)\n",
    "plt.plot(val_losses)\n",
    "plt.plot(val_accuracies)\n",
    "plt.legend(['Train Loss', 'Validation Loss', 'Validation Accuracy'])\n",
    "plt.show()"
   ]
  },
  {
   "cell_type": "markdown",
   "id": "d38a5a7d",
   "metadata": {
    "id": "d38a5a7d"
   },
   "source": [
    "As the very last step of the model training phase, report the accuracy on the test portion of the data."
   ]
  },
  {
   "cell_type": "code",
   "execution_count": 16,
   "id": "3532454c",
   "metadata": {
    "colab": {
     "base_uri": "https://localhost:8080/"
    },
    "id": "3532454c",
    "outputId": "fc0052bd-8dfb-4363-8a90-2f365528071d"
   },
   "outputs": [
    {
     "name": "stdout",
     "output_type": "stream",
     "text": [
      "Test loss: 0.32945806105994874\n",
      "Test accuracy: 0.8786\n"
     ]
    }
   ],
   "source": [
    "# 5.4 Solution:\n",
    "test_loss = eval_epoch(model, tok_test_dataloader, loss_fn, device=device)\n",
    "test_acc = measure_accuracy(model, tok_test_dataloader, device=device)\n",
    "print(f'Test loss: {test_loss}')\n",
    "print(f'Test accuracy: {test_acc}')"
   ]
  },
  {
   "cell_type": "markdown",
   "id": "ec9aafa5",
   "metadata": {
    "id": "ec9aafa5"
   },
   "source": [
    "### Part 5.5 (BONUS question): variation in your model\n",
    "\n",
    "If you feel up for it, experiment with a number of variations on the simple model you implemented.\n",
    "You can investigate the following suggestions:\n",
    "\n",
    "   1. Use a stacked LSTM, i.e. where one LSTM feeds into the next etc. Only if you have enough computational power!\n",
    "   2. Experiment with the dropout parameter (which randomly chooses to *not* update a certain percentage of parameters during training).\n",
    "   3. Use a bidirectional LSTM.\n",
    "   4. Replace the Linear output layer with multiple Linear layers.\n",
    "    \n",
    "You will receive bonus points for a decent attempt at improvement, as long as you reach equal or higher accuracy compared to the base model."
   ]
  },
  {
   "cell_type": "code",
   "execution_count": null,
   "id": "15de1f33",
   "metadata": {},
   "outputs": [
    {
     "name": "stderr",
     "output_type": "stream",
     "text": [
      "  0%|          | 0/1250 [00:00<?, ?it/s]"
     ]
    },
    {
     "name": "stderr",
     "output_type": "stream",
     "text": [
      "100%|██████████| 1250/1250 [00:12<00:00, 98.66it/s] \n"
     ]
    },
    {
     "name": "stdout",
     "output_type": "stream",
     "text": [
      "Epoch 0\n",
      " Training Loss: 0.5236717072367668\n",
      " Validation Loss: 0.3963995961721536\n",
      " Validation Accuracy: 0.8294\n"
     ]
    },
    {
     "name": "stderr",
     "output_type": "stream",
     "text": [
      "100%|██████████| 1250/1250 [00:12<00:00, 102.26it/s]\n"
     ]
    },
    {
     "name": "stdout",
     "output_type": "stream",
     "text": [
      "Epoch 1\n",
      " Training Loss: 0.344939584672451\n",
      " Validation Loss: 0.27751787362774466\n",
      " Validation Accuracy: 0.8858\n"
     ]
    },
    {
     "name": "stderr",
     "output_type": "stream",
     "text": [
      "100%|██████████| 1250/1250 [00:12<00:00, 98.29it/s] \n"
     ]
    },
    {
     "name": "stdout",
     "output_type": "stream",
     "text": [
      "Epoch 2\n",
      " Training Loss: 0.28503863268196583\n",
      " Validation Loss: 0.2716708882551664\n",
      " Validation Accuracy: 0.8898\n"
     ]
    },
    {
     "name": "stderr",
     "output_type": "stream",
     "text": [
      "100%|██████████| 1250/1250 [00:12<00:00, 98.59it/s] \n"
     ]
    },
    {
     "name": "stdout",
     "output_type": "stream",
     "text": [
      "Epoch 3\n",
      " Training Loss: 0.25615950960814954\n",
      " Validation Loss: 0.25575917294830275\n",
      " Validation Accuracy: 0.8938\n"
     ]
    },
    {
     "name": "stderr",
     "output_type": "stream",
     "text": [
      "100%|██████████| 1250/1250 [00:12<00:00, 97.78it/s] \n"
     ]
    },
    {
     "name": "stdout",
     "output_type": "stream",
     "text": [
      "Epoch 4\n",
      " Training Loss: 0.22906793653070925\n",
      " Validation Loss: 0.25800792165812414\n",
      " Validation Accuracy: 0.899\n"
     ]
    },
    {
     "data": {
      "image/png": "[encoded data removed]",
      "text/plain": [
       "<Figure size 640x480 with 1 Axes>"
      ]
     },
     "metadata": {},
     "output_type": "display_data"
    },
    {
     "name": "stdout",
     "output_type": "stream",
     "text": [
      "Test loss: 0.2877593339438651\n",
      "Test accuracy: 0.8832\n"
     ]
    }
   ],
   "source": [
    "# Our model with more stacked layers and dropout added to it\n",
    "\n",
    "class LSTMSequenceClassifier2(torch.nn.Module):\n",
    "\n",
    "    def __init__(self, input_dim: int, embedding_dim: int, hidden_dim: int, num_layers, output_dim: int, output_activation, dropout):\n",
    "        super(LSTMSequenceClassifier2, self).__init__()\n",
    "\n",
    "        self.embedding = torch.nn.Embedding(input_dim, embedding_dim)\n",
    "        self.dropout = torch.nn.Dropout(dropout)\n",
    "\n",
    "        self.rnn = torch.nn.LSTM(embedding_dim, hidden_dim, num_layers=num_layers, batch_first=True)\n",
    "        self.h_to_y = torch.nn.Linear(hidden_dim, output_dim)\n",
    "        self.output_activation = output_activation\n",
    "\n",
    "    def forward(self, text):\n",
    "        # text dim: [sentence length, batch size]\n",
    "        embedded = self.embedding(text)\n",
    "        embedded = self.dropout(embedded)\n",
    "        # embedded dim: [sentence length, batch size, embedding dim]\n",
    "        _, (h, _) = self.rnn(embedded)\n",
    "        h = self.dropout(h)\n",
    "        output = self.h_to_y(h[-1])\n",
    "        output = self.output_activation(output)\n",
    "        return output\n",
    "\n",
    "train_losses = []\n",
    "val_losses = []\n",
    "val_accuracies = []\n",
    "\n",
    "num_layers = 3\n",
    "dropout = 0.3\n",
    "model2 = LSTMSequenceClassifier2(input_dim, embedding_dim, hidden_dim, num_layers, output_dim, output_activation, dropout)\n",
    "optimizer = torch.optim.AdamW(model2.parameters(),lr=0.001)\n",
    "\n",
    "model2.to(device)\n",
    "\n",
    "for t in range(NUM_EPOCHS):\n",
    "    model.train()\n",
    "    train_loss = train_epoch(model2, tok_train_dataloader, optimizer=optimizer, loss_fn=loss_fn, device=device)\n",
    "    val_loss = eval_epoch(model2, tok_val_dataloader, loss_fn, device=device)\n",
    "    val_acc = measure_accuracy(model2, tok_val_dataloader, device=device)\n",
    "\n",
    "    print('Epoch {}'.format(t))\n",
    "    print(' Training Loss: {}'.format(train_loss))\n",
    "    print(' Validation Loss: {}'.format(val_loss))\n",
    "    print(' Validation Accuracy: {}'.format(val_acc))\n",
    "\n",
    "    train_losses.append(train_loss)\n",
    "    val_losses.append(val_loss)\n",
    "    val_accuracies.append(val_acc)\n",
    "\n",
    "plt.plot(train_losses)\n",
    "plt.plot(val_losses)\n",
    "plt.plot(val_accuracies)\n",
    "plt.legend(['Train Loss', 'Validation Loss', 'Validation Accuracy'])\n",
    "plt.show()\n",
    "\n",
    "test_loss = eval_epoch(model2, tok_test_dataloader, loss_fn, device=device)\n",
    "test_acc = measure_accuracy(model2, tok_test_dataloader, device=device)\n",
    "print(f'Test loss: {test_loss}')\n",
    "print(f'Test accuracy: {test_acc}')"
   ]
  },
  {
   "cell_type": "markdown",
   "id": "0e438147",
   "metadata": {
    "id": "0e438147"
   },
   "source": [
    "## Part 6 (20 points): Analysis\n",
    "\n",
    "Now that you have a trained model that works reasonably well, we will investigate the embedding space it has created, along the different word usage in positive and negative reviews."
   ]
  },
  {
   "cell_type": "markdown",
   "id": "c8061a4c",
   "metadata": {
    "id": "c8061a4c"
   },
   "source": [
    "### Part 6.1 (3 points): Untokenization for data inspection\n",
    "\n",
    "First, let's take a look at the way words are distributed after tokenization among positive and negative reviews. To do so, we need to untokenize the tokenized reviews. To this end, finish the beneath implementation: it will create the inverted `int2word` map to map the tokenized integer representations of reviews back to the corresponding words, and the subsequent `untokenize` function will take a tokenized review (as a PyTorch Tensor) and produce a list of words."
   ]
  },
  {
   "cell_type": "code",
   "execution_count": null,
   "id": "c3b35031",
   "metadata": {
    "id": "c3b35031"
   },
   "outputs": [],
   "source": [
    "# 6.1 Solution:\n",
    "int2word = {idx: word for word, idx in word2int.items()}\n",
    "\n",
    "def untokenize(review: Tensor) -> List[str]:\n",
    "    return [int2word.get(token.item(), '<UNK>') for token in review]"
   ]
  },
  {
   "cell_type": "markdown",
   "id": "a5bad668",
   "metadata": {
    "id": "a5bad668"
   },
   "source": [
    "### Part 6.2 (5 points): Positive and Negative vocabularies\n",
    "\n",
    "Next, we want to look at words that are more specific to the positive and negative reviews. Given the positive and negative tokenized reviews, determine the word frequencies for all positive, and all negative reviews.\n",
    "Use this to compute the following three items:\n",
    "\n",
    "1. The words that were among the most common 20 words for the positive ánd negative reviews,\n",
    "2. The words that occurred more than 1500 times more often in the positive reviews, but not in the list of item '1',\n",
    "2. The words that occurred more than 2000 times more often in the negative reviews, but not in the list of item '1'."
   ]
  },
  {
   "cell_type": "code",
   "execution_count": 19,
   "id": "4556f723",
   "metadata": {
    "id": "4556f723"
   },
   "outputs": [],
   "source": [
    "# 6.2 Solution:\n",
    "positive_tokenized_reviews = [r for r,s in zip(tokenized_reviews, sentiment_tensors) if s.item() == 1.]\n",
    "negative_tokenized_reviews = [r for r,s in zip(tokenized_reviews, sentiment_tensors) if s.item() == 0.]\n",
    "\n",
    "positive_word_counts = {}\n",
    "negative_word_counts = {}\n",
    "\n",
    "for review in positive_tokenized_reviews:\n",
    "    for word in review.tolist():\n",
    "        positive_word_counts[word] = positive_word_counts.get(word, 0) + 1\n",
    "\n",
    "for review in negative_tokenized_reviews:\n",
    "    for word in review.tolist():\n",
    "        negative_word_counts[word] = negative_word_counts.get(word, 0) + 1\n",
    "\n",
    "top_20_positive = set(sorted(positive_word_counts, key=positive_word_counts.get, reverse=True)[:20])\n",
    "top_20_negative = set(sorted(negative_word_counts, key=negative_word_counts.get, reverse=True)[:20])\n",
    "\n",
    "common_words = top_20_positive & top_20_negative\n",
    "\n",
    "positive_distinct = {\n",
    "    word for word in positive_word_counts\n",
    "    if positive_word_counts[word] > negative_word_counts.get(word, 0) + 1500 and word not in common_words\n",
    "}\n",
    "\n",
    "negative_distinct = {\n",
    "    word for word in negative_word_counts\n",
    "    if negative_word_counts[word] > positive_word_counts.get(word, 0) + 2000 and word not in common_words\n",
    "}\n",
    "\n"
   ]
  },
  {
   "cell_type": "code",
   "execution_count": 20,
   "id": "z0FD_qXqxvpN",
   "metadata": {
    "colab": {
     "base_uri": "https://localhost:8080/"
    },
    "id": "z0FD_qXqxvpN",
    "outputId": "32eb81d5-1978-4cd1-b2f6-a74f3c764a2a"
   },
   "outputs": [
    {
     "name": "stdout",
     "output_type": "stream",
     "text": [
      "Common words: {0, 1, 2, 3, 4, 5, 6, 7, 8, 9, 10, 11, 12, 13}\n",
      "Distinctly positive words: {139, 14, 16, 17, 277, 25, 31, 289, 36, 40, 43, 46, 50, 307, 62, 199, 205, 89, 94, 106}\n",
      "Distinctly negative words: {130, 131, 68, 37, 326, 38, 58, 270, 272, 144, 18, 242, 21, 24, 26, 219, 60, 254}\n"
     ]
    }
   ],
   "source": [
    "print(\"Common words:\", common_words)\n",
    "print(\"Distinctly positive words:\", positive_distinct)\n",
    "print(\"Distinctly negative words:\", negative_distinct)"
   ]
  },
  {
   "cell_type": "markdown",
   "id": "b7dcb129",
   "metadata": {
    "id": "b7dcb129"
   },
   "source": [
    "### Part 6.3 (6 points): Word similarities\n",
    "\n",
    "The model you trained has internally learnt to represent each word in the vocabulary by an embedding. It is interesting to see how these word embeddings function after learning to do review classification.\n",
    "\n",
    "We can use PyTorch's internal cosine similarity function to compute the *pairwise* cosine similarities between two matrices: given a matrix $M : W \\times D$ and $N: W \\times D$, with $W$ the number of words and $D$ the dimensions, the function `similarities` below returns a vector $S: W$ containing the pairwise cosine similarity between the words in $M$ and in $N$ (example: if $M[5]$ represents the word 'great' and $N[5]$ represents the word 'cool', then $S[5]$ holds the cosine similarity between them).\n",
    "\n",
    "So if we wanted to compute the similarity of one word against a list of other words, we need to stack the vector for the single word to get a matrix of the same size as the matrix containing the embeddings for the other words.\n",
    "\n",
    "The code below provides the functionality to compute pairwise similarity over two matrices, and a way to retrieve all the embeddings for a list of words. For ease of use the model is placed back on CPU. Run the two cells below to verify that the model contains 5000 embeddings."
   ]
  },
  {
   "cell_type": "code",
   "execution_count": 21,
   "id": "960a3652",
   "metadata": {
    "id": "960a3652"
   },
   "outputs": [],
   "source": [
    "model.to('cpu')\n",
    "\n",
    "def similarities(matrix1: Tensor, matrix2: Tensor):\n",
    "    return torch.nn.CosineSimilarity(dim=1)(matrix1, matrix2)\n",
    "\n",
    "def get_vectors(model: LSTMSequenceClassifier, words: List[str], word2int: dict[str, int]):\n",
    "    return model.embedding(torch.tensor([word2int[word] for word in words]))"
   ]
  },
  {
   "cell_type": "code",
   "execution_count": 22,
   "id": "d77ae301",
   "metadata": {
    "colab": {
     "base_uri": "https://localhost:8080/",
     "height": 35
    },
    "id": "d77ae301",
    "outputId": "f7e9efa2-f77b-40bb-f853-205a7f090948"
   },
   "outputs": [
    {
     "data": {
      "text/plain": [
       "torch.Size([5000, 128])"
      ]
     },
     "metadata": {},
     "output_type": "display_data"
    }
   ],
   "source": [
    "all_embeddings = get_vectors(model, list(word2int.keys()), word2int)\n",
    "display(all_embeddings.shape)"
   ]
  },
  {
   "cell_type": "markdown",
   "id": "3c6ba594",
   "metadata": {
    "id": "3c6ba594"
   },
   "source": [
    "Now it is your turn. Start by finishing the function `get_similarities_for_word` below. Given a single word and a list of words to compare against, it should return a tensor containing the similarities for the single word against all the other words. You can verify the implementation by running the test code afterwards, which will display the top 10 words for a few examples; of course, the word itself will occur as the most similar!"
   ]
  },
  {
   "cell_type": "code",
   "execution_count": 23,
   "id": "2ff9aa59",
   "metadata": {
    "id": "2ff9aa59"
   },
   "outputs": [],
   "source": [
    "# 6.3 Solution:\n",
    "\n",
    "def get_similarities_for_word(word: str, word_list: List[str]) -> Tensor:\n",
    "    word_vector = get_vectors(model, [word], word2int)\n",
    "    word_list_vectors = get_vectors(model, word_list, word2int)\n",
    "    return similarities(word_vector.repeat(len(word_list_vectors), 1), word_list_vectors)"
   ]
  },
  {
   "cell_type": "code",
   "execution_count": 24,
   "id": "46b07497",
   "metadata": {
    "colab": {
     "base_uri": "https://localhost:8080/",
     "height": 380
    },
    "id": "46b07497",
    "outputId": "8e3cdc4e-1330-4936-f7bd-98e1aae4061d"
   },
   "outputs": [
    {
     "data": {
      "text/plain": [
       "['theyre',\n",
       " 'bible',\n",
       " 'sons',\n",
       " 'artists',\n",
       " 'females',\n",
       " 'tremendous',\n",
       " 'murray',\n",
       " 'elegant',\n",
       " 'check',\n",
       " 'image']"
      ]
     },
     "metadata": {},
     "output_type": "display_data"
    },
    {
     "data": {
      "text/plain": [
       "['impressive',\n",
       " 'colorful',\n",
       " 'description',\n",
       " 'brand',\n",
       " 'nowbr',\n",
       " 'push',\n",
       " 'wise',\n",
       " 'defend',\n",
       " 'passable',\n",
       " 'towards']"
      ]
     },
     "metadata": {},
     "output_type": "display_data"
    }
   ],
   "source": [
    "sim_matrix1 = get_similarities_for_word('horrible', list(word2int.keys()))\n",
    "display([int2word[k.item()+1] for k in sim_matrix1.topk(10).indices])\n",
    "\n",
    "sim_matrix2 = get_similarities_for_word('awesome', list(word2int.keys()))\n",
    "display([int2word[k.item()+1] for k in sim_matrix2.topk(10).indices])"
   ]
  },
  {
   "cell_type": "markdown",
   "id": "96a48817",
   "metadata": {
    "id": "96a48817"
   },
   "source": [
    "### Part 6.4 (6 points): Closeness of the embedding space\n",
    "\n",
    "As the very final part, we wish to inspect the average similarity between word lists. Implement the function `get_average_similarities` below, which takes in two lists of words and returns the arithmetic mean of the similarities between them. You should make use of your prior implementation that retrieves similarities for one word against a list of words. Given that you computed overlapping common words, distinctly positive words, and distinctly negative words in 3.2, use your implemtation to calculate the following average similarities:\n",
    "\n",
    " 1. Between the distinctly positive words and the overlapping common words,\n",
    " 2. Between the distinctly negative words and the overlapping common words,\n",
    " 3. Between the distinctly positive words and the distinctly negative word."
   ]
  },
  {
   "cell_type": "code",
   "execution_count": 25,
   "id": "da902624",
   "metadata": {
    "id": "da902624"
   },
   "outputs": [],
   "source": [
    "# 6.4 Solution:\n",
    "\n",
    "def get_average_similarities(word_list1: List[str], word_list2: List[str]) -> float:\n",
    "    word_list1_vectors = get_vectors(model, word_list1, word2int)\n",
    "    word_list2_vectors = get_vectors(model, word_list2, word2int)\n",
    "    similarity_scores = similarities(word_list1_vectors.unsqueeze(1), word_list2_vectors.unsqueeze(0))\n",
    "    return similarity_scores.mean().item()"
   ]
  }
 ],
 "metadata": {
  "accelerator": "GPU",
  "colab": {
   "gpuType": "T4",
   "provenance": []
  },
  "kernelspec": {
   "display_name": "NLP2",
   "language": "python",
   "name": "python3"
  },
  "language_info": {
   "codemirror_mode": {
    "name": "ipython",
    "version": 3
   },
   "file_extension": ".py",
   "mimetype": "text/x-python",
   "name": "python",
   "nbconvert_exporter": "python",
   "pygments_lexer": "ipython3",
   "version": "3.11.9"
  }
 },
 "nbformat": 4,
 "nbformat_minor": 5
}
